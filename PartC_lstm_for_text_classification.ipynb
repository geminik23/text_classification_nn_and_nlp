{
 "cells": [
  {
   "cell_type": "markdown",
   "metadata": {},
   "source": [
    "# LSTM for Text Classification"
   ]
  },
  {
   "cell_type": "markdown",
   "metadata": {},
   "source": [
    "## 1. Getting the Dataset"
   ]
  },
  {
   "cell_type": "code",
   "execution_count": 81,
   "metadata": {},
   "outputs": [],
   "source": [
    "import keras\n",
    "imdb = keras.datasets.imdb"
   ]
  },
  {
   "cell_type": "code",
   "execution_count": 82,
   "metadata": {},
   "outputs": [],
   "source": [
    "# loading only the top 10000 words in the vocabulary like you did last week.\n",
    "VOCAB_SIZE = 10000\n",
    "# we reserve indices 0 for ‘<PAD>’, 1 for ‘<START>’ and 2 for ‘<UNK>’ i.e. words not in vocabulary\n",
    "INDEX_FROM = 3 # EDITED\n",
    "(train_data,train_labels),(test_data,test_labels) = imdb.load_data(num_words=VOCAB_SIZE,\n",
    "index_from=INDEX_FROM)"
   ]
  },
  {
   "cell_type": "code",
   "execution_count": 83,
   "metadata": {
    "scrolled": true
   },
   "outputs": [
    {
     "name": "stdout",
     "output_type": "stream",
     "text": [
      "Sample review: [1, 14, 22, 16, 43, 530, 973, 1622, 1385, 65, 458, 4468, 66, 3941, 4, 173, 36, 256, 5, 25, 100, 43, 838, 112, 50, 670, 2, 9, 35, 480, 284, 5, 150, 4, 172, 112, 167, 2, 336, 385, 39, 4, 172, 4536, 1111, 17, 546, 38, 13, 447, 4, 192, 50, 16, 6, 147, 2025, 19, 14, 22, 4, 1920, 4613, 469, 4, 22, 71, 87, 12, 16, 43, 530, 38, 76, 15, 13, 1247, 4, 22, 17, 515, 17, 12, 16, 626, 18, 2, 5, 62, 386, 12, 8, 316, 8, 106, 5, 4, 2223, 5244, 16, 480, 66, 3785, 33, 4, 130, 12, 16, 38, 619, 5, 25, 124, 51, 36, 135, 48, 25, 1415, 33, 6, 22, 12, 215, 28, 77, 52, 5, 14, 407, 16, 82, 2, 8, 4, 107, 117, 5952, 15, 256, 4, 2, 7, 3766, 5, 723, 36, 71, 43, 530, 476, 26, 400, 317, 46, 7, 4, 2, 1029, 13, 104, 88, 4, 381, 15, 297, 98, 32, 2071, 56, 26, 141, 6, 194, 7486, 18, 4, 226, 22, 21, 134, 476, 26, 480, 5, 144, 30, 5535, 18, 51, 36, 28, 224, 92, 25, 104, 4, 226, 65, 16, 38, 1334, 88, 12, 16, 283, 5, 16, 4472, 113, 103, 32, 15, 16, 5345, 19, 178, 32]\n",
      "\n",
      " Sample label: 1\n"
     ]
    }
   ],
   "source": [
    "print('Sample review:', train_data[0])\n",
    "print('\\n Sample label:', test_labels[1])"
   ]
  },
  {
   "cell_type": "markdown",
   "metadata": {},
   "source": [
    "## 2. Readying the Inputs for the LSTM"
   ]
  },
  {
   "cell_type": "code",
   "execution_count": 84,
   "metadata": {},
   "outputs": [],
   "source": [
    "from keras.preprocessing.sequence import pad_sequences\n",
    "MAXIMUM_LENGTH = 500"
   ]
  },
  {
   "cell_type": "code",
   "execution_count": 85,
   "metadata": {},
   "outputs": [],
   "source": [
    "word_index = imdb.get_word_index()\n",
    "word_index = {k:(v+3) for k,v in word_index.items()}\n",
    "word_index[\"<PAD>\"] = 0\n",
    "word_index[\"<START>\"] = 1\n",
    "word_index[\"<UNK>\"] = 2  \n",
    "word_index[\"<UNUSED>\"] = 3\n",
    "\n",
    "preprocessed_train_data = keras.preprocessing.sequence.pad_sequences(train_data,\n",
    "                                                       value=word_index[\"<PAD>\"],\n",
    "                                                       padding='post',\n",
    "                                                       maxlen=MAXIMUM_LENGTH)"
   ]
  },
  {
   "cell_type": "code",
   "execution_count": 86,
   "metadata": {},
   "outputs": [
    {
     "name": "stdout",
     "output_type": "stream",
     "text": [
      "Length of sample train_data before preprocessing: 218\n",
      "Length of sample train_data after preprocessing: 500\n"
     ]
    }
   ],
   "source": [
    "print('Length of sample train_data before preprocessing:', len(train_data[0]))\n",
    "print('Length of sample train_data after preprocessing:', len(preprocessed_train_data[0]))"
   ]
  },
  {
   "cell_type": "markdown",
   "metadata": {},
   "source": [
    "## 3. Building the Model"
   ]
  },
  {
   "cell_type": "code",
   "execution_count": 87,
   "metadata": {},
   "outputs": [
    {
     "name": "stdout",
     "output_type": "stream",
     "text": [
      "Model: \"model_13\"\n",
      "_________________________________________________________________\n",
      "Layer (type)                 Output Shape              Param #   \n",
      "=================================================================\n",
      "input_1 (InputLayer)         (None, 500)               0         \n",
      "_________________________________________________________________\n",
      "Embedding_Layer (Embedding)  (None, 500, 100)          1000000   \n",
      "_________________________________________________________________\n",
      "LSTM_layer (LSTM)            (None, 100)               80400     \n",
      "_________________________________________________________________\n",
      "Output_layer (Dense)         (None, 1)                 101       \n",
      "=================================================================\n",
      "Total params: 1,080,501\n",
      "Trainable params: 1,080,501\n",
      "Non-trainable params: 0\n",
      "_________________________________________________________________\n"
     ]
    }
   ],
   "source": [
    "import keras\n",
    "import numpy as np\n",
    "from keras.layers import LSTM, Embedding, Input, Dense, Dropout\n",
    "from keras.models import Sequential\n",
    "from keras.models import Model\n",
    "units = 100\n",
    "EMBED_SIZE = 100\n",
    "\n",
    "input_layer = Input(shape=(MAXIMUM_LENGTH,), dtype='int32', name='input_1')\n",
    "embedding = Embedding(VOCAB_SIZE, EMBED_SIZE, input_length=MAXIMUM_LENGTH, name='Embedding_Layer')(input_layer)\n",
    "lstm = LSTM(units, activation='tanh', recurrent_activation='sigmoid', name='LSTM_layer')(embedding)\n",
    "dense = Dense(1, input_shape=(1,), activation='sigmoid', kernel_initializer='glorot_uniform', name='Output_layer')(lstm)\n",
    "\n",
    "model = Model(inputs=[input_layer], outputs=[dense])\n",
    "model.compile(loss='binary_crossentropy', optimizer='adam', metrics=[\"accuracy\"])\n",
    "model.summary()"
   ]
  },
  {
   "cell_type": "code",
   "execution_count": 88,
   "metadata": {},
   "outputs": [
    {
     "data": {
      "image/svg+xml": "<svg height=\"405pt\" viewBox=\"0.00 0.00 361.00 304.00\" width=\"481pt\" xmlns=\"http://www.w3.org/2000/svg\" xmlns:xlink=\"http://www.w3.org/1999/xlink\">\n<g class=\"graph\" id=\"graph0\" transform=\"scale(1.3333 1.3333) rotate(0) translate(4 300)\">\n<title>G</title>\n<polygon fill=\"#ffffff\" points=\"-4,4 -4,-300 357,-300 357,4 -4,4\" stroke=\"transparent\"/>\n<!-- 136795883598456 -->\n<g class=\"node\" id=\"node1\">\n<title>136795883598456</title>\n<polygon fill=\"none\" points=\"45,-249.5 45,-295.5 308,-295.5 308,-249.5 45,-249.5\" stroke=\"#000000\"/>\n<text fill=\"#000000\" font-family=\"Times,serif\" font-size=\"14.00\" text-anchor=\"middle\" x=\"107.5\" y=\"-268.8\">input_1: InputLayer</text>\n<polyline fill=\"none\" points=\"170,-249.5 170,-295.5 \" stroke=\"#000000\"/>\n<text fill=\"#000000\" font-family=\"Times,serif\" font-size=\"14.00\" text-anchor=\"middle\" x=\"197.5\" y=\"-280.3\">input:</text>\n<polyline fill=\"none\" points=\"170,-272.5 225,-272.5 \" stroke=\"#000000\"/>\n<text fill=\"#000000\" font-family=\"Times,serif\" font-size=\"14.00\" text-anchor=\"middle\" x=\"197.5\" y=\"-257.3\">output:</text>\n<polyline fill=\"none\" points=\"225,-249.5 225,-295.5 \" stroke=\"#000000\"/>\n<text fill=\"#000000\" font-family=\"Times,serif\" font-size=\"14.00\" text-anchor=\"middle\" x=\"266.5\" y=\"-280.3\">(None, 500)</text>\n<polyline fill=\"none\" points=\"225,-272.5 308,-272.5 \" stroke=\"#000000\"/>\n<text fill=\"#000000\" font-family=\"Times,serif\" font-size=\"14.00\" text-anchor=\"middle\" x=\"266.5\" y=\"-257.3\">(None, 500)</text>\n</g>\n<!-- 136797585521128 -->\n<g class=\"node\" id=\"node2\">\n<title>136797585521128</title>\n<polygon fill=\"none\" points=\"0,-166.5 0,-212.5 353,-212.5 353,-166.5 0,-166.5\" stroke=\"#000000\"/>\n<text fill=\"#000000\" font-family=\"Times,serif\" font-size=\"14.00\" text-anchor=\"middle\" x=\"94\" y=\"-185.8\">Embedding_Layer: Embedding</text>\n<polyline fill=\"none\" points=\"188,-166.5 188,-212.5 \" stroke=\"#000000\"/>\n<text fill=\"#000000\" font-family=\"Times,serif\" font-size=\"14.00\" text-anchor=\"middle\" x=\"215.5\" y=\"-197.3\">input:</text>\n<polyline fill=\"none\" points=\"188,-189.5 243,-189.5 \" stroke=\"#000000\"/>\n<text fill=\"#000000\" font-family=\"Times,serif\" font-size=\"14.00\" text-anchor=\"middle\" x=\"215.5\" y=\"-174.3\">output:</text>\n<polyline fill=\"none\" points=\"243,-166.5 243,-212.5 \" stroke=\"#000000\"/>\n<text fill=\"#000000\" font-family=\"Times,serif\" font-size=\"14.00\" text-anchor=\"middle\" x=\"298\" y=\"-197.3\">(None, 500)</text>\n<polyline fill=\"none\" points=\"243,-189.5 353,-189.5 \" stroke=\"#000000\"/>\n<text fill=\"#000000\" font-family=\"Times,serif\" font-size=\"14.00\" text-anchor=\"middle\" x=\"298\" y=\"-174.3\">(None, 500, 100)</text>\n</g>\n<!-- 136795883598456&#45;&gt;136797585521128 -->\n<g class=\"edge\" id=\"edge1\">\n<title>136795883598456-&gt;136797585521128</title>\n<path d=\"M176.5,-249.3799C176.5,-241.1745 176.5,-231.7679 176.5,-222.8786\" fill=\"none\" stroke=\"#000000\"/>\n<polygon fill=\"#000000\" points=\"180.0001,-222.784 176.5,-212.784 173.0001,-222.784 180.0001,-222.784\" stroke=\"#000000\"/>\n</g>\n<!-- 136797585196816 -->\n<g class=\"node\" id=\"node3\">\n<title>136797585196816</title>\n<polygon fill=\"none\" points=\"28.5,-83.5 28.5,-129.5 324.5,-129.5 324.5,-83.5 28.5,-83.5\" stroke=\"#000000\"/>\n<text fill=\"#000000\" font-family=\"Times,serif\" font-size=\"14.00\" text-anchor=\"middle\" x=\"94\" y=\"-102.8\">LSTM_layer: LSTM</text>\n<polyline fill=\"none\" points=\"159.5,-83.5 159.5,-129.5 \" stroke=\"#000000\"/>\n<text fill=\"#000000\" font-family=\"Times,serif\" font-size=\"14.00\" text-anchor=\"middle\" x=\"187\" y=\"-114.3\">input:</text>\n<polyline fill=\"none\" points=\"159.5,-106.5 214.5,-106.5 \" stroke=\"#000000\"/>\n<text fill=\"#000000\" font-family=\"Times,serif\" font-size=\"14.00\" text-anchor=\"middle\" x=\"187\" y=\"-91.3\">output:</text>\n<polyline fill=\"none\" points=\"214.5,-83.5 214.5,-129.5 \" stroke=\"#000000\"/>\n<text fill=\"#000000\" font-family=\"Times,serif\" font-size=\"14.00\" text-anchor=\"middle\" x=\"269.5\" y=\"-114.3\">(None, 500, 100)</text>\n<polyline fill=\"none\" points=\"214.5,-106.5 324.5,-106.5 \" stroke=\"#000000\"/>\n<text fill=\"#000000\" font-family=\"Times,serif\" font-size=\"14.00\" text-anchor=\"middle\" x=\"269.5\" y=\"-91.3\">(None, 100)</text>\n</g>\n<!-- 136797585521128&#45;&gt;136797585196816 -->\n<g class=\"edge\" id=\"edge2\">\n<title>136797585521128-&gt;136797585196816</title>\n<path d=\"M176.5,-166.3799C176.5,-158.1745 176.5,-148.7679 176.5,-139.8786\" fill=\"none\" stroke=\"#000000\"/>\n<polygon fill=\"#000000\" points=\"180.0001,-139.784 176.5,-129.784 173.0001,-139.784 180.0001,-139.784\" stroke=\"#000000\"/>\n</g>\n<!-- 136795420472152 -->\n<g class=\"node\" id=\"node4\">\n<title>136795420472152</title>\n<polygon fill=\"none\" points=\"43,-.5 43,-46.5 310,-46.5 310,-.5 43,-.5\" stroke=\"#000000\"/>\n<text fill=\"#000000\" font-family=\"Times,serif\" font-size=\"14.00\" text-anchor=\"middle\" x=\"107.5\" y=\"-19.8\">Output_layer: Dense</text>\n<polyline fill=\"none\" points=\"172,-.5 172,-46.5 \" stroke=\"#000000\"/>\n<text fill=\"#000000\" font-family=\"Times,serif\" font-size=\"14.00\" text-anchor=\"middle\" x=\"199.5\" y=\"-31.3\">input:</text>\n<polyline fill=\"none\" points=\"172,-23.5 227,-23.5 \" stroke=\"#000000\"/>\n<text fill=\"#000000\" font-family=\"Times,serif\" font-size=\"14.00\" text-anchor=\"middle\" x=\"199.5\" y=\"-8.3\">output:</text>\n<polyline fill=\"none\" points=\"227,-.5 227,-46.5 \" stroke=\"#000000\"/>\n<text fill=\"#000000\" font-family=\"Times,serif\" font-size=\"14.00\" text-anchor=\"middle\" x=\"268.5\" y=\"-31.3\">(None, 100)</text>\n<polyline fill=\"none\" points=\"227,-23.5 310,-23.5 \" stroke=\"#000000\"/>\n<text fill=\"#000000\" font-family=\"Times,serif\" font-size=\"14.00\" text-anchor=\"middle\" x=\"268.5\" y=\"-8.3\">(None, 1)</text>\n</g>\n<!-- 136797585196816&#45;&gt;136795420472152 -->\n<g class=\"edge\" id=\"edge3\">\n<title>136797585196816-&gt;136795420472152</title>\n<path d=\"M176.5,-83.3799C176.5,-75.1745 176.5,-65.7679 176.5,-56.8786\" fill=\"none\" stroke=\"#000000\"/>\n<polygon fill=\"#000000\" points=\"180.0001,-56.784 176.5,-46.784 173.0001,-56.784 180.0001,-56.784\" stroke=\"#000000\"/>\n</g>\n</g>\n</svg>",
      "text/plain": [
       "<IPython.core.display.SVG object>"
      ]
     },
     "execution_count": 88,
     "metadata": {},
     "output_type": "execute_result"
    }
   ],
   "source": [
    "from keras.utils import plot_model\n",
    "from IPython.display import SVG\n",
    "from keras.utils import vis_utils\n",
    "SVG(vis_utils.model_to_dot(model, show_shapes=True, show_layer_names=True).create(prog='dot', format='svg'))"
   ]
  },
  {
   "cell_type": "markdown",
   "metadata": {},
   "source": [
    "## 4. Training the Model"
   ]
  },
  {
   "cell_type": "code",
   "execution_count": 89,
   "metadata": {},
   "outputs": [
    {
     "name": "stdout",
     "output_type": "stream",
     "text": [
      "Train on 23000 samples, validate on 2000 samples\n",
      "Epoch 1/3\n",
      "23000/23000 [==============================] - 189s 8ms/step - loss: 0.6927 - accuracy: 0.5071 - val_loss: 0.6900 - val_accuracy: 0.5090\n",
      "Epoch 2/3\n",
      "23000/23000 [==============================] - 188s 8ms/step - loss: 0.6803 - accuracy: 0.5218 - val_loss: 0.6873 - val_accuracy: 0.5190\n",
      "Epoch 3/3\n",
      "23000/23000 [==============================] - 183s 8ms/step - loss: 0.6523 - accuracy: 0.5783 - val_loss: 0.6505 - val_accuracy: 0.6580\n"
     ]
    }
   ],
   "source": [
    "EPOCHS = 3\n",
    "BATCH_SIZE = 100\n",
    "\n",
    "x_val = np.array(preprocessed_train_data[:2000])\n",
    "x_train = np.array(preprocessed_train_data[2000:])\n",
    "\n",
    "y_val = np.array(train_labels[:2000])\n",
    "y_train = np.array(train_labels[2000:])\n",
    "\n",
    "\n",
    "\n",
    "history = model.fit(x_train, y_train, \n",
    "          epochs=EPOCHS, \n",
    "          batch_size=BATCH_SIZE,\n",
    "          validation_data=(x_val, y_val))"
   ]
  },
  {
   "cell_type": "code",
   "execution_count": 90,
   "metadata": {},
   "outputs": [
    {
     "data": {
      "image/png": "[encoded data removed]",
      "text/plain": [
       "<Figure size 432x288 with 1 Axes>"
      ]
     },
     "metadata": {
      "needs_background": "light"
     },
     "output_type": "display_data"
    }
   ],
   "source": [
    "import matplotlib.pyplot as plt\n",
    "\n",
    "history_dict = history.history\n",
    "acc = history_dict['accuracy']\n",
    "val_acc = history_dict['val_accuracy']\n",
    "loss = history_dict['loss']\n",
    "val_loss = history_dict['val_loss']\n",
    "\n",
    "epochs = range(1, len(acc) + 1)\n",
    "\n",
    "plt.plot(epochs, acc, 'bo', label='Training acc')\n",
    "plt.plot(epochs, val_acc, 'b', label='Validation acc')\n",
    "plt.title('Training and validation accuracy')\n",
    "plt.xlabel('Epochs')\n",
    "plt.ylabel('Accuracy')\n",
    "plt.legend()\n",
    "\n",
    "plt.show()"
   ]
  },
  {
   "cell_type": "markdown",
   "metadata": {},
   "source": [
    "## 5. Evaluating the Model on the Test Data"
   ]
  },
  {
   "cell_type": "code",
   "execution_count": 32,
   "metadata": {},
   "outputs": [
    {
     "name": "stdout",
     "output_type": "stream",
     "text": [
      "25000/25000 [==============================] - 99s 4ms/step\n",
      "test_loss: 0.6952787357521057 test_accuracy: 0.51555997133255\n"
     ]
    }
   ],
   "source": [
    "\n",
    "preprocessed_test_data = keras.preprocessing.sequence.pad_sequences(test_data,\n",
    "                                                       value=word_index[\"<PAD>\"],\n",
    "                                                       padding='post',\n",
    "                                                       maxlen=MAXIMUM_LENGTH)\n",
    "results = model.evaluate(preprocessed_test_data, test_labels)\n",
    "print('test_loss:', results[0], 'test_accuracy:', results[1])"
   ]
  },
  {
   "cell_type": "markdown",
   "metadata": {},
   "source": [
    "## 6. Extracting the Word Embeddings"
   ]
  },
  {
   "cell_type": "code",
   "execution_count": 91,
   "metadata": {},
   "outputs": [],
   "source": [
    "word_embeddings = model.get_layer('Embedding_Layer').get_weights()[0]"
   ]
  },
  {
   "cell_type": "code",
   "execution_count": 92,
   "metadata": {},
   "outputs": [
    {
     "name": "stdout",
     "output_type": "stream",
     "text": [
      "Model: \"model_13\"\n",
      "_________________________________________________________________\n",
      "Layer (type)                 Output Shape              Param #   \n",
      "=================================================================\n",
      "input_1 (InputLayer)         (None, 500)               0         \n",
      "_________________________________________________________________\n",
      "Embedding_Layer (Embedding)  (None, 500, 100)          1000000   \n",
      "_________________________________________________________________\n",
      "LSTM_layer (LSTM)            (None, 100)               80400     \n",
      "_________________________________________________________________\n",
      "Output_layer (Dense)         (None, 1)                 101       \n",
      "=================================================================\n",
      "Total params: 1,080,501\n",
      "Trainable params: 1,080,501\n",
      "Non-trainable params: 0\n",
      "_________________________________________________________________\n"
     ]
    }
   ],
   "source": [
    "model.summary()"
   ]
  },
  {
   "cell_type": "code",
   "execution_count": 34,
   "metadata": {},
   "outputs": [
    {
     "name": "stdout",
     "output_type": "stream",
     "text": [
      "Shape of word_embeddings: (10000, 100)\n"
     ]
    }
   ],
   "source": [
    "print('Shape of word_embeddings:', word_embeddings.shape)"
   ]
  },
  {
   "cell_type": "markdown",
   "metadata": {},
   "source": [
    "## 7. Visualizing the Reviews"
   ]
  },
  {
   "cell_type": "code",
   "execution_count": 60,
   "metadata": {},
   "outputs": [],
   "source": [
    "word2idx = imdb.get_word_index()\n",
    "word2idx = {k:(v+INDEX_FROM) for k,v in word2idx.items() if v < 9998}\n",
    "word2idx[\"<PAD>\"] = 0\n",
    "word2idx[\"<START>\"] = 1\n",
    "word2idx[\"<UNK>\"] = 2\n",
    "\n",
    "idx2word = {}\n",
    "\n",
    "for k,v in word2idx.items():\n",
    "    idx2word[v] = k"
   ]
  },
  {
   "cell_type": "code",
   "execution_count": 61,
   "metadata": {},
   "outputs": [
    {
     "name": "stdout",
     "output_type": "stream",
     "text": [
      "<START> this film was just brilliant casting location scenery story direction everyone's really suited the part they played and you could just imagine being there robert <UNK> is an amazing actor and now the same being director <UNK> father came from the same scottish island as myself so i loved the fact there was a real connection with this film the witty remarks throughout the film were great it was just brilliant so much that i bought the film as soon as it was released for <UNK> and would recommend it to everyone to watch and the fly fishing was amazing really cried at the end it was so sad and you know what they say if you cry at a film it must have been good and this definitely was also <UNK> to the two little boy's that played the <UNK> of norman and paul they were just brilliant children are often left out of the <UNK> list i think because the stars that play them all grown up are such a big profile for the whole film but these children are amazing and should be praised for what they have done don't you think the whole story was so lovely because it was true and was someone's life after all that was shared with us all\n"
     ]
    }
   ],
   "source": [
    "print(' '.join(idx2word[idx] for idx in train_data[0]))"
   ]
  },
  {
   "cell_type": "code",
   "execution_count": 62,
   "metadata": {
    "scrolled": true
   },
   "outputs": [
    {
     "name": "stdout",
     "output_type": "stream",
     "text": [
      "[1, 14, 22, 16, 43, 530, 973, 1622, 1385, 65, 458, 4468, 66, 3941, 4, 173, 36, 256, 5, 25, 100, 43, 838, 112, 50, 670, 2, 9, 35, 480, 284, 5, 150, 4, 172, 112, 167, 2, 336, 385, 39, 4, 172, 4536, 1111, 17, 546, 38, 13, 447, 4, 192, 50, 16, 6, 147, 2025, 19, 14, 22, 4, 1920, 4613, 469, 4, 22, 71, 87, 12, 16, 43, 530, 38, 76, 15, 13, 1247, 4, 22, 17, 515, 17, 12, 16, 626, 18, 2, 5, 62, 386, 12, 8, 316, 8, 106, 5, 4, 2223, 5244, 16, 480, 66, 3785, 33, 4, 130, 12, 16, 38, 619, 5, 25, 124, 51, 36, 135, 48, 25, 1415, 33, 6, 22, 12, 215, 28, 77, 52, 5, 14, 407, 16, 82, 2, 8, 4, 107, 117, 5952, 15, 256, 4, 2, 7, 3766, 5, 723, 36, 71, 43, 530, 476, 26, 400, 317, 46, 7, 4, 2, 1029, 13, 104, 88, 4, 381, 15, 297, 98, 32, 2071, 56, 26, 141, 6, 194, 7486, 18, 4, 226, 22, 21, 134, 476, 26, 480, 5, 144, 30, 5535, 18, 51, 36, 28, 224, 92, 25, 104, 4, 226, 65, 16, 38, 1334, 88, 12, 16, 283, 5, 16, 4472, 113, 103, 32, 15, 16, 5345, 19, 178, 32]\n"
     ]
    }
   ],
   "source": [
    "print(train_data[0])"
   ]
  },
  {
   "cell_type": "markdown",
   "metadata": {},
   "source": [
    "## 8. Visualizing the Word_Embeddings"
   ]
  },
  {
   "cell_type": "code",
   "execution_count": 63,
   "metadata": {},
   "outputs": [
    {
     "name": "stdout",
     "output_type": "stream",
     "text": [
      "                 0         1         2         3         4         5   \\\n",
      "woods      0.024188 -0.035626  0.020033 -0.004826 -0.011097  0.041299   \n",
      "hanging   -0.023686  0.039995  0.024655 -0.049787  0.003555 -0.005358   \n",
      "woody      0.042992 -0.059526 -0.032346  0.012404 -0.033204  0.024899   \n",
      "arranged   0.043984 -0.007139  0.039525  0.019116  0.046628 -0.018431   \n",
      "bringing  -0.048412  0.019376  0.005543 -0.035169 -0.002327  0.002885   \n",
      "wooden    -0.046992  0.023822 -0.062534  0.013614  0.001276 -0.058028   \n",
      "errors    -0.006899  0.051744 -0.042060  0.040874 -0.004292  0.002719   \n",
      "dialogs   -0.035241  0.046159 -0.052651 -0.055415 -0.024793 -0.061027   \n",
      "kids       0.007404 -0.028581  0.020779 -0.033703 -0.006895  0.019340   \n",
      "uplifting -0.024134 -0.048341 -0.035027 -0.000473 -0.013263 -0.012841   \n",
      "\n",
      "                 6         7         8         9   ...        90        91  \\\n",
      "woods      0.004542  0.046331  0.030973  0.013837  ...  0.002725  0.013247   \n",
      "hanging    0.040757  0.033478 -0.011381 -0.049462  ...  0.007697  0.022844   \n",
      "woody      0.010100  0.011041  0.027673 -0.010058  ... -0.001784 -0.038821   \n",
      "arranged  -0.026908  0.008919 -0.022458 -0.015151  ... -0.008169 -0.043602   \n",
      "bringing   0.024736 -0.060278  0.018460 -0.015560  ...  0.001522  0.022410   \n",
      "wooden    -0.057247 -0.038413 -0.011163 -0.095421  ...  0.024120 -0.014329   \n",
      "errors    -0.059772  0.025909 -0.024985  0.012799  ... -0.010500  0.035778   \n",
      "dialogs   -0.052287 -0.060093 -0.049117  0.034169  ...  0.035417  0.006586   \n",
      "kids       0.022172 -0.007594  0.028392 -0.011833  ... -0.021611 -0.022912   \n",
      "uplifting  0.008654 -0.037329 -0.005189 -0.071704  ...  0.017709 -0.074552   \n",
      "\n",
      "                 92        93        94        95        96        97  \\\n",
      "woods     -0.012407  0.003853 -0.026712 -0.022251 -0.037482 -0.011952   \n",
      "hanging   -0.045514  0.017915 -0.017107 -0.032629  0.012736  0.032893   \n",
      "woody     -0.008866  0.016011  0.026558 -0.021050  0.021888  0.044241   \n",
      "arranged   0.018451 -0.027181  0.046107 -0.045195  0.007505 -0.013821   \n",
      "bringing   0.008284 -0.048448  0.013734 -0.000047  0.024734  0.028392   \n",
      "wooden     0.070871 -0.021940  0.073894 -0.066202 -0.007020  0.010080   \n",
      "errors     0.021581  0.000906 -0.006356 -0.025958  0.004257  0.020577   \n",
      "dialogs    0.011091 -0.019511  0.027841 -0.033050  0.070829  0.013484   \n",
      "kids       0.054551 -0.035057  0.023993  0.061574  0.074397  0.052796   \n",
      "uplifting  0.012319 -0.012825  0.037183  0.039884  0.059932  0.062881   \n",
      "\n",
      "                 98        99  \n",
      "woods      0.027862  0.022151  \n",
      "hanging    0.030318  0.023929  \n",
      "woody      0.022652 -0.010710  \n",
      "arranged  -0.024724 -0.046184  \n",
      "bringing  -0.021865 -0.027907  \n",
      "wooden     0.001996 -0.084736  \n",
      "errors    -0.016713 -0.037502  \n",
      "dialogs    0.037293 -0.006768  \n",
      "kids      -0.015167 -0.052095  \n",
      "uplifting  0.035680 -0.048364  \n",
      "\n",
      "[10 rows x 100 columns]\n"
     ]
    }
   ],
   "source": [
    "from pandas import DataFrame\n",
    "print(DataFrame(word_embeddings, index=idx2word.values()).head(10))"
   ]
  },
  {
   "cell_type": "markdown",
   "metadata": {},
   "source": [
    "Plot the word embeddings using TSNE."
   ]
  },
  {
   "cell_type": "code",
   "execution_count": 64,
   "metadata": {
    "scrolled": false
   },
   "outputs": [
    {
     "data": {
      "image/png": "[encoded data removed]",
      "text/plain": [
       "<Figure size 1008x576 with 1 Axes>"
      ]
     },
     "metadata": {
      "needs_background": "light"
     },
     "output_type": "display_data"
    }
   ],
   "source": [
    "from sklearn.manifold import TSNE\n",
    "import matplotlib.pyplot as plt\n",
    "import numpy as np\n",
    "tsne = TSNE(perplexity=3, n_components=2, init='pca', n_iter=5000, method='exact')\n",
    "np.set_printoptions(suppress=True)\n",
    "start = 3\n",
    "plot_only = 54\n",
    "T = tsne.fit_transform(word_embeddings[start:plot_only, :])\n",
    "labels = [idx2word[i+1] for i in range(start, plot_only)]\n",
    "plt.figure(figsize=(14, 8))\n",
    "plt.scatter(T[:, 0], T[:, 1])\n",
    "for label, x, y in zip(labels, T[:, 0], T[:, 1]):\n",
    "    plt.annotate(label, xy=(x+1, y+1), xytext=(0, 0), textcoords='offset points', ha='right',va='bottom')"
   ]
  }
 ],
 "metadata": {
  "kernelspec": {
   "display_name": "Python 3",
   "language": "python",
   "name": "python3"
  },
  "language_info": {
   "codemirror_mode": {
    "name": "ipython",
    "version": 3
   },
   "file_extension": ".py",
   "mimetype": "text/x-python",
   "name": "python",
   "nbconvert_exporter": "python",
   "pygments_lexer": "ipython3",
   "version": "3.7.3"
  }
 },
 "nbformat": 4,
 "nbformat_minor": 2
}
