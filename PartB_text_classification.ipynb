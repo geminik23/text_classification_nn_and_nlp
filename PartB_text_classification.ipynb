{
  "cells": [
    {
      "cell_type": "markdown",
      "metadata": {
        "colab_type": "text",
        "id": "hExKCzh6doIW"
      },
      "source": [
        "# Neural Network Classifier Using Simple Word Embeddings\n",
        "\n",
        "\n",
        "\n",
        "---\n",
        "\n",
        "\n",
        "\n",
        "\n",
        "\n",
        "\n",
        "\n",
        "\n",
        "\n",
        "\n",
        "\n",
        "\n",
        "\n"
      ]
    },
    {
      "cell_type": "code",
      "execution_count": null,
      "metadata": {
        "colab": {},
        "colab_type": "code",
        "id": "m8fpBfhBpupy"
      },
      "outputs": [],
      "source": [
        "import keras\n",
        "import numpy as np\n",
        "from keras.layers import Lambda, GlobalAveragePooling1D, Dense, Embedding\n",
        "from keras import backend as K\n",
        "from keras.models import Sequential\n"
      ]
    },
    {
      "cell_type": "markdown",
      "metadata": {
        "colab_type": "text",
        "id": "cqvPQvgvPv1W"
      },
      "source": [
        "### Downloading data"
      ]
    },
    {
      "cell_type": "code",
      "execution_count": null,
      "metadata": {
        "colab": {},
        "colab_type": "code",
        "id": "NyuSzkafqNca"
      },
      "outputs": [],
      "source": [
        "imdb = keras.datasets.imdb\n",
        "(X_train, y_train), (X_test, y_test) = imdb.load_data(num_words=10000)"
      ]
    },
    {
      "cell_type": "code",
      "execution_count": 5,
      "metadata": {
        "colab": {
          "base_uri": "https://localhost:8080/",
          "height": 34
        },
        "colab_type": "code",
        "id": "h-gjWRAuqg5s",
        "outputId": "b5d9710f-b0c5-4e72-d369-ab2d3d976bf3"
      },
      "outputs": [
        {
          "name": "stdout",
          "output_type": "stream",
          "text": [
            "Training entries: 25000, labels: 25000\n"
          ]
        }
      ],
      "source": [
        "print(\"Training entries: {}, labels: {}\".format(len(X_train), len(y_train)))"
      ]
    },
    {
      "cell_type": "code",
      "execution_count": 6,
      "metadata": {
        "colab": {
          "base_uri": "https://localhost:8080/",
          "height": 1000
        },
        "colab_type": "code",
        "id": "79Ev72Kgq4XL",
        "outputId": "1e6e4883-2923-46c5-d7a9-42b5042bea2b"
      },
      "outputs": [
        {
          "data": {
            "text/plain": [
              "[1,\n",
              " 14,\n",
              " 22,\n",
              " 16,\n",
              " 43,\n",
              " 530,\n",
              " 973,\n",
              " 1622,\n",
              " 1385,\n",
              " 65,\n",
              " 458,\n",
              " 4468,\n",
              " 66,\n",
              " 3941,\n",
              " 4,\n",
              " 173,\n",
              " 36,\n",
              " 256,\n",
              " 5,\n",
              " 25,\n",
              " 100,\n",
              " 43,\n",
              " 838,\n",
              " 112,\n",
              " 50,\n",
              " 670,\n",
              " 2,\n",
              " 9,\n",
              " 35,\n",
              " 480,\n",
              " 284,\n",
              " 5,\n",
              " 150,\n",
              " 4,\n",
              " 172,\n",
              " 112,\n",
              " 167,\n",
              " 2,\n",
              " 336,\n",
              " 385,\n",
              " 39,\n",
              " 4,\n",
              " 172,\n",
              " 4536,\n",
              " 1111,\n",
              " 17,\n",
              " 546,\n",
              " 38,\n",
              " 13,\n",
              " 447,\n",
              " 4,\n",
              " 192,\n",
              " 50,\n",
              " 16,\n",
              " 6,\n",
              " 147,\n",
              " 2025,\n",
              " 19,\n",
              " 14,\n",
              " 22,\n",
              " 4,\n",
              " 1920,\n",
              " 4613,\n",
              " 469,\n",
              " 4,\n",
              " 22,\n",
              " 71,\n",
              " 87,\n",
              " 12,\n",
              " 16,\n",
              " 43,\n",
              " 530,\n",
              " 38,\n",
              " 76,\n",
              " 15,\n",
              " 13,\n",
              " 1247,\n",
              " 4,\n",
              " 22,\n",
              " 17,\n",
              " 515,\n",
              " 17,\n",
              " 12,\n",
              " 16,\n",
              " 626,\n",
              " 18,\n",
              " 2,\n",
              " 5,\n",
              " 62,\n",
              " 386,\n",
              " 12,\n",
              " 8,\n",
              " 316,\n",
              " 8,\n",
              " 106,\n",
              " 5,\n",
              " 4,\n",
              " 2223,\n",
              " 5244,\n",
              " 16,\n",
              " 480,\n",
              " 66,\n",
              " 3785,\n",
              " 33,\n",
              " 4,\n",
              " 130,\n",
              " 12,\n",
              " 16,\n",
              " 38,\n",
              " 619,\n",
              " 5,\n",
              " 25,\n",
              " 124,\n",
              " 51,\n",
              " 36,\n",
              " 135,\n",
              " 48,\n",
              " 25,\n",
              " 1415,\n",
              " 33,\n",
              " 6,\n",
              " 22,\n",
              " 12,\n",
              " 215,\n",
              " 28,\n",
              " 77,\n",
              " 52,\n",
              " 5,\n",
              " 14,\n",
              " 407,\n",
              " 16,\n",
              " 82,\n",
              " 2,\n",
              " 8,\n",
              " 4,\n",
              " 107,\n",
              " 117,\n",
              " 5952,\n",
              " 15,\n",
              " 256,\n",
              " 4,\n",
              " 2,\n",
              " 7,\n",
              " 3766,\n",
              " 5,\n",
              " 723,\n",
              " 36,\n",
              " 71,\n",
              " 43,\n",
              " 530,\n",
              " 476,\n",
              " 26,\n",
              " 400,\n",
              " 317,\n",
              " 46,\n",
              " 7,\n",
              " 4,\n",
              " 2,\n",
              " 1029,\n",
              " 13,\n",
              " 104,\n",
              " 88,\n",
              " 4,\n",
              " 381,\n",
              " 15,\n",
              " 297,\n",
              " 98,\n",
              " 32,\n",
              " 2071,\n",
              " 56,\n",
              " 26,\n",
              " 141,\n",
              " 6,\n",
              " 194,\n",
              " 7486,\n",
              " 18,\n",
              " 4,\n",
              " 226,\n",
              " 22,\n",
              " 21,\n",
              " 134,\n",
              " 476,\n",
              " 26,\n",
              " 480,\n",
              " 5,\n",
              " 144,\n",
              " 30,\n",
              " 5535,\n",
              " 18,\n",
              " 51,\n",
              " 36,\n",
              " 28,\n",
              " 224,\n",
              " 92,\n",
              " 25,\n",
              " 104,\n",
              " 4,\n",
              " 226,\n",
              " 65,\n",
              " 16,\n",
              " 38,\n",
              " 1334,\n",
              " 88,\n",
              " 12,\n",
              " 16,\n",
              " 283,\n",
              " 5,\n",
              " 16,\n",
              " 4472,\n",
              " 113,\n",
              " 103,\n",
              " 32,\n",
              " 15,\n",
              " 16,\n",
              " 5345,\n",
              " 19,\n",
              " 178,\n",
              " 32]"
            ]
          },
          "execution_count": 6,
          "metadata": {
            "tags": []
          },
          "output_type": "execute_result"
        }
      ],
      "source": [
        " X_train[0]"
      ]
    },
    {
      "cell_type": "code",
      "execution_count": 7,
      "metadata": {
        "colab": {
          "base_uri": "https://localhost:8080/",
          "height": 51
        },
        "colab_type": "code",
        "id": "gMCH1OoDrSNR",
        "outputId": "d8f0c26f-0cd7-47a6-f181-224714b7ca25"
      },
      "outputs": [
        {
          "name": "stdout",
          "output_type": "stream",
          "text": [
            "Downloading data from https://s3.amazonaws.com/text-datasets/imdb_word_index.json\n",
            "1646592/1641221 [==============================] - 1s 0us/step\n"
          ]
        }
      ],
      "source": [
        "\n",
        "word_index = imdb.get_word_index()"
      ]
    },
    {
      "cell_type": "code",
      "execution_count": null,
      "metadata": {
        "colab": {},
        "colab_type": "code",
        "id": "abIb7Fe5u3GQ"
      },
      "outputs": [],
      "source": [
        "\n",
        "word_index = {k:(v+3) for k,v in word_index.items()}\n",
        "word_index[\"<PAD>\"] = 0\n",
        "word_index[\"<START>\"] = 1\n",
        "word_index[\"<UNK>\"] = 2  \n",
        "word_index[\"<UNUSED>\"] = 3"
      ]
    },
    {
      "cell_type": "code",
      "execution_count": null,
      "metadata": {
        "colab": {},
        "colab_type": "code",
        "id": "nKOiVVXQu-_I"
      },
      "outputs": [],
      "source": [
        "reverse_word_index = dict([(value, key) for (key, value) in word_index.items()])"
      ]
    },
    {
      "cell_type": "code",
      "execution_count": 10,
      "metadata": {
        "colab": {
          "base_uri": "https://localhost:8080/",
          "height": 34
        },
        "colab_type": "code",
        "id": "SqN5jgVKvJJZ",
        "outputId": "81ae52e6-9dbc-47d8-c125-ab02256a92ca"
      },
      "outputs": [
        {
          "data": {
            "text/plain": [
              "'you'"
            ]
          },
          "execution_count": 10,
          "metadata": {
            "tags": []
          },
          "output_type": "execute_result"
        }
      ],
      "source": [
        "reverse_word_index[25]"
      ]
    },
    {
      "cell_type": "code",
      "execution_count": null,
      "metadata": {
        "colab": {},
        "colab_type": "code",
        "id": "wvrKeMgxvWlv"
      },
      "outputs": [],
      "source": [
        "def decode_review(text):\n",
        "    return ' '.join([reverse_word_index.get(i, '?') for i in text])"
      ]
    },
    {
      "cell_type": "code",
      "execution_count": 12,
      "metadata": {
        "colab": {
          "base_uri": "https://localhost:8080/",
          "height": 54
        },
        "colab_type": "code",
        "id": "Sxg4YA_NvdRg",
        "outputId": "1e941f65-4a8c-4fe1-b398-60df865fe998"
      },
      "outputs": [
        {
          "data": {
            "text/plain": [
              "\"<START> french horror cinema has seen something of a revival over the last couple of years with great films such as inside and <UNK> romance <UNK> on to the scene <UNK> <UNK> the revival just slightly but stands head and shoulders over most modern horror titles and is surely one of the best french horror films ever made <UNK> was obviously shot on a low budget but this is made up for in far more ways than one by the originality of the film and this in turn is <UNK> by the excellent writing and acting that ensure the film is a winner the plot focuses on two main ideas prison and black magic the central character is a man named <UNK> sent to prison for fraud he is put in a cell with three others the quietly insane <UNK> body building <UNK> marcus and his retarded boyfriend daisy after a short while in the cell together they stumble upon a hiding place in the wall that contains an old <UNK> after <UNK> part of it they soon realise its magical powers and realise they may be able to use it to break through the prison walls br br black magic is a very interesting topic and i'm actually quite surprised that there aren't more films based on it as there's so much scope for things to do with it it's fair to say that <UNK> makes the best of it's <UNK> as despite it's <UNK> the film never actually feels restrained and manages to flow well throughout director eric <UNK> provides a great atmosphere for the film the fact that most of it takes place inside the central prison cell <UNK> that the film feels very claustrophobic and this immensely benefits the central idea of the prisoners wanting to use magic to break out of the cell it's very easy to get behind them it's often said that the unknown is the thing that really <UNK> people and this film proves that as the director <UNK> that we can never really be sure of exactly what is round the corner and this helps to ensure that <UNK> actually does manage to be quite frightening the film is memorable for a lot of reasons outside the central plot the characters are all very interesting in their own way and the fact that the book itself almost takes on its own character is very well done anyone worried that the film won't deliver by the end won't be disappointed either as the ending both makes sense and manages to be quite horrifying overall <UNK> is a truly great horror film and one of the best of the decade highly recommended viewing\""
            ]
          },
          "execution_count": 12,
          "metadata": {
            "tags": []
          },
          "output_type": "execute_result"
        }
      ],
      "source": [
        "decode_review(X_train[10])"
      ]
    },
    {
      "cell_type": "markdown",
      "metadata": {
        "colab_type": "text",
        "id": "c8gIzXncfaJK"
      },
      "source": [
        "### Creating One-hot word vectors"
      ]
    },
    {
      "cell_type": "code",
      "execution_count": null,
      "metadata": {
        "colab": {},
        "colab_type": "code",
        "id": "RPO_pK9zH4C5"
      },
      "outputs": [],
      "source": [
        "def OneHot(input_dim=None, input_length=None):\n",
        "    \n",
        "    if input_dim is None or input_length is None:\n",
        "        raise TypeError(\"input_dim or input_length is not set\")\n",
        "\n",
        "    \n",
        "    def _one_hot(x, num_classes):\n",
        "        return K.one_hot(K.cast(x, 'uint8'),\n",
        "                          num_classes=num_classes)\n",
        "\n",
        "    return Lambda(_one_hot,\n",
        "                  arguments={'num_classes': input_dim},\n",
        "                  input_shape=(input_length,))"
      ]
    },
    {
      "cell_type": "markdown",
      "metadata": {
        "colab_type": "text",
        "id": "9G_o7PsvgSFt"
      },
      "source": [
        "### Preparing input data"
      ]
    },
    {
      "cell_type": "code",
      "execution_count": null,
      "metadata": {
        "colab": {},
        "colab_type": "code",
        "id": "jiFn7sd_wF5j"
      },
      "outputs": [],
      "source": [
        "VOCAB_SIZE = 10000\n",
        "MAX_SEQUENCE_LENGTH = 256\n",
        "\n",
        "X_train_enc = keras.preprocessing.sequence.pad_sequences(X_train,\n",
        "                                                        value=word_index[\"<PAD>\"],\n",
        "                                                        padding='post',\n",
        "                                                        maxlen=256)\n",
        "\n",
        "X_test_enc = keras.preprocessing.sequence.pad_sequences(X_test,\n",
        "                                                       value=word_index[\"<PAD>\"],\n",
        "                                                       padding='post',\n",
        "                                                       maxlen=256)"
      ]
    },
    {
      "cell_type": "code",
      "execution_count": 15,
      "metadata": {
        "colab": {
          "base_uri": "https://localhost:8080/",
          "height": 340
        },
        "colab_type": "code",
        "id": "zwH4dcfW_a18",
        "outputId": "79758440-2b66-4fe6-ee65-6136641de5c7"
      },
      "outputs": [
        {
          "name": "stdout",
          "output_type": "stream",
          "text": [
            "[   1  194 1153  194 8255   78  228    5    6 1463 4369 5012  134   26\n",
            "    4  715    8  118 1634   14  394   20   13  119  954  189  102    5\n",
            "  207  110 3103   21   14   69  188    8   30   23    7    4  249  126\n",
            "   93    4  114    9 2300 1523    5  647    4  116    9   35 8163    4\n",
            "  229    9  340 1322    4  118    9    4  130 4901   19    4 1002    5\n",
            "   89   29  952   46   37    4  455    9   45   43   38 1543 1905  398\n",
            "    4 1649   26 6853    5  163   11 3215    2    4 1153    9  194  775\n",
            "    7 8255    2  349 2637  148  605    2 8003   15  123  125   68    2\n",
            " 6853   15  349  165 4362   98    5    4  228    9   43    2 1157   15\n",
            "  299  120    5  120  174   11  220  175  136   50    9 4373  228 8255\n",
            "    5    2  656  245 2350    5    4 9837  131  152  491   18    2   32\n",
            " 7464 1212   14    9    6  371   78   22  625   64 1382    9    8  168\n",
            "  145   23    4 1690   15   16    4 1355    5   28    6   52  154  462\n",
            "   33   89   78  285   16  145   95    0    0    0    0    0    0    0\n",
            "    0    0    0    0    0    0    0    0    0    0    0    0    0    0\n",
            "    0    0    0    0    0    0    0    0    0    0    0    0    0    0\n",
            "    0    0    0    0    0    0    0    0    0    0    0    0    0    0\n",
            "    0    0    0    0    0    0    0    0    0    0    0    0    0    0\n",
            "    0    0    0    0]\n"
          ]
        }
      ],
      "source": [
        "print(X_train_enc[1])\n"
      ]
    },
    {
      "cell_type": "code",
      "execution_count": null,
      "metadata": {
        "colab": {},
        "colab_type": "code",
        "id": "Yi04MLIvJOGZ"
      },
      "outputs": [],
      "source": [
        "class GlobalAveragePooling1DMasked(GlobalAveragePooling1D):\n",
        "    def call(self, x, mask=None):\n",
        "        if mask != None:\n",
        "            return K.sum(x, axis=1) / K.sum(mask, axis=1)\n",
        "        else:\n",
        "            return super().call(x)\n"
      ]
    },
    {
      "cell_type": "markdown",
      "metadata": {
        "colab_type": "text",
        "id": "whgIIB5ggjna"
      },
      "source": [
        "### Neural Network model using one-hot vectors"
      ]
    },
    {
      "cell_type": "code",
      "execution_count": 18,
      "metadata": {
        "colab": {
          "base_uri": "https://localhost:8080/",
          "height": 139
        },
        "colab_type": "code",
        "id": "_Pn83gBbxiK7",
        "outputId": "83ffd171-c458-4c6c-b1e1-5ee9ad8554b3"
      },
      "outputs": [
        {
          "name": "stdout",
          "output_type": "stream",
          "text": [
            "WARNING:tensorflow:From /usr/local/lib/python3.6/dist-packages/keras/backend/tensorflow_backend.py:66: The name tf.get_default_graph is deprecated. Please use tf.compat.v1.get_default_graph instead.\n",
            "\n",
            "WARNING:tensorflow:From /usr/local/lib/python3.6/dist-packages/keras/backend/tensorflow_backend.py:541: The name tf.placeholder is deprecated. Please use tf.compat.v1.placeholder instead.\n",
            "\n",
            "WARNING:tensorflow:From /usr/local/lib/python3.6/dist-packages/keras/backend/tensorflow_backend.py:4432: The name tf.random_uniform is deprecated. Please use tf.random.uniform instead.\n",
            "\n"
          ]
        }
      ],
      "source": [
        "# put your code here\n",
        "model = Sequential()\n",
        "model.add(OneHot(VOCAB_SIZE, MAX_SEQUENCE_LENGTH))\n",
        "model.add(GlobalAveragePooling1DMasked())\n",
        "model.add(Dense(1, activation='sigmoid'))\n"
      ]
    },
    {
      "cell_type": "markdown",
      "metadata": {
        "colab_type": "text",
        "id": "_Mz96xpCgvTj"
      },
      "source": [
        "### Training the model"
      ]
    },
    {
      "cell_type": "code",
      "execution_count": 24,
      "metadata": {
        "colab": {
          "base_uri": "https://localhost:8080/",
          "height": 255
        },
        "colab_type": "code",
        "id": "qh1PWTNMxjUw",
        "outputId": "9e9dd334-88f3-49af-8051-f4a51855980f"
      },
      "outputs": [
        {
          "name": "stdout",
          "output_type": "stream",
          "text": [
            "Model: \"sequential_1\"\n",
            "_________________________________________________________________\n",
            "Layer (type)                 Output Shape              Param #   \n",
            "=================================================================\n",
            "lambda_1 (Lambda)            (None, 256, 10000)        0         \n",
            "_________________________________________________________________\n",
            "global_average_pooling1d_mas (None, 10000)             0         \n",
            "_________________________________________________________________\n",
            "dense_1 (Dense)              (None, 1)                 10001     \n",
            "=================================================================\n",
            "Total params: 10,001\n",
            "Trainable params: 10,001\n",
            "Non-trainable params: 0\n",
            "_________________________________________________________________\n"
          ]
        }
      ],
      "source": [
        "model.compile(optimizer='adam',\n",
        "              loss='binary_crossentropy',\n",
        "              metrics=['accuracy'])\n",
        "model.summary()"
      ]
    },
    {
      "cell_type": "code",
      "execution_count": null,
      "metadata": {
        "colab": {},
        "colab_type": "code",
        "id": "f5lAqzQlxjSM"
      },
      "outputs": [],
      "source": [
        "X_val = np.array(X_train_enc[:10000])\n",
        "partial_X_train = np.array(X_train_enc[10000:])\n",
        "\n",
        "y_val = np.array(y_train[:10000])\n",
        "partial_y_train = np.array(y_train[10000:])"
      ]
    },
    {
      "cell_type": "code",
      "execution_count": 23,
      "metadata": {
        "colab": {
          "base_uri": "https://localhost:8080/",
          "height": 1000
        },
        "colab_type": "code",
        "id": "99_z39KAxjPi",
        "outputId": "00b4f374-2fd6-4963-8bf1-3eb36ebeaa8a"
      },
      "outputs": [
        {
          "name": "stdout",
          "output_type": "stream",
          "text": [
            "WARNING:tensorflow:From /usr/local/lib/python3.6/dist-packages/keras/backend/tensorflow_backend.py:1033: The name tf.assign_add is deprecated. Please use tf.compat.v1.assign_add instead.\n",
            "\n",
            "WARNING:tensorflow:From /usr/local/lib/python3.6/dist-packages/keras/backend/tensorflow_backend.py:1020: The name tf.assign is deprecated. Please use tf.compat.v1.assign instead.\n",
            "\n",
            "WARNING:tensorflow:From /usr/local/lib/python3.6/dist-packages/keras/backend/tensorflow_backend.py:3005: The name tf.Session is deprecated. Please use tf.compat.v1.Session instead.\n",
            "\n",
            "Train on 15000 samples, validate on 10000 samples\n",
            "Epoch 1/40\n",
            "WARNING:tensorflow:From /usr/local/lib/python3.6/dist-packages/keras/backend/tensorflow_backend.py:190: The name tf.get_default_session is deprecated. Please use tf.compat.v1.get_default_session instead.\n",
            "\n",
            "WARNING:tensorflow:From /usr/local/lib/python3.6/dist-packages/keras/backend/tensorflow_backend.py:197: The name tf.ConfigProto is deprecated. Please use tf.compat.v1.ConfigProto instead.\n",
            "\n",
            "WARNING:tensorflow:From /usr/local/lib/python3.6/dist-packages/keras/backend/tensorflow_backend.py:207: The name tf.global_variables is deprecated. Please use tf.compat.v1.global_variables instead.\n",
            "\n",
            "WARNING:tensorflow:From /usr/local/lib/python3.6/dist-packages/keras/backend/tensorflow_backend.py:216: The name tf.is_variable_initialized is deprecated. Please use tf.compat.v1.is_variable_initialized instead.\n",
            "\n",
            "WARNING:tensorflow:From /usr/local/lib/python3.6/dist-packages/keras/backend/tensorflow_backend.py:223: The name tf.variables_initializer is deprecated. Please use tf.compat.v1.variables_initializer instead.\n",
            "\n",
            "15000/15000 [==============================] - 13s 844us/step - loss: 0.6930 - acc: 0.5033 - val_loss: 0.6928 - val_acc: 0.4947\n",
            "Epoch 2/40\n",
            "15000/15000 [==============================] - 3s 199us/step - loss: 0.6925 - acc: 0.5047 - val_loss: 0.6924 - val_acc: 0.5066\n",
            "Epoch 3/40\n",
            "15000/15000 [==============================] - 3s 202us/step - loss: 0.6921 - acc: 0.5729 - val_loss: 0.6920 - val_acc: 0.5981\n",
            "Epoch 4/40\n",
            "15000/15000 [==============================] - 3s 199us/step - loss: 0.6917 - acc: 0.5885 - val_loss: 0.6917 - val_acc: 0.5487\n",
            "Epoch 5/40\n",
            "15000/15000 [==============================] - 3s 198us/step - loss: 0.6913 - acc: 0.5673 - val_loss: 0.6913 - val_acc: 0.5735\n",
            "Epoch 6/40\n",
            "15000/15000 [==============================] - 3s 199us/step - loss: 0.6909 - acc: 0.5873 - val_loss: 0.6909 - val_acc: 0.5925\n",
            "Epoch 7/40\n",
            "15000/15000 [==============================] - 3s 200us/step - loss: 0.6905 - acc: 0.6501 - val_loss: 0.6905 - val_acc: 0.6472\n",
            "Epoch 8/40\n",
            "15000/15000 [==============================] - 3s 199us/step - loss: 0.6901 - acc: 0.6442 - val_loss: 0.6901 - val_acc: 0.6485\n",
            "Epoch 9/40\n",
            "15000/15000 [==============================] - 3s 200us/step - loss: 0.6896 - acc: 0.6667 - val_loss: 0.6897 - val_acc: 0.6615\n",
            "Epoch 10/40\n",
            "15000/15000 [==============================] - 3s 203us/step - loss: 0.6892 - acc: 0.6608 - val_loss: 0.6894 - val_acc: 0.6559\n",
            "Epoch 11/40\n",
            "15000/15000 [==============================] - 3s 202us/step - loss: 0.6888 - acc: 0.6623 - val_loss: 0.6890 - val_acc: 0.6515\n",
            "Epoch 12/40\n",
            "15000/15000 [==============================] - 3s 202us/step - loss: 0.6884 - acc: 0.6571 - val_loss: 0.6886 - val_acc: 0.6535\n",
            "Epoch 13/40\n",
            "15000/15000 [==============================] - 3s 200us/step - loss: 0.6880 - acc: 0.6655 - val_loss: 0.6883 - val_acc: 0.6615\n",
            "Epoch 14/40\n",
            "15000/15000 [==============================] - 3s 201us/step - loss: 0.6877 - acc: 0.6667 - val_loss: 0.6879 - val_acc: 0.6573\n",
            "Epoch 15/40\n",
            "15000/15000 [==============================] - 3s 201us/step - loss: 0.6873 - acc: 0.6651 - val_loss: 0.6876 - val_acc: 0.6581\n",
            "Epoch 16/40\n",
            "15000/15000 [==============================] - 3s 201us/step - loss: 0.6869 - acc: 0.6715 - val_loss: 0.6871 - val_acc: 0.6642\n",
            "Epoch 17/40\n",
            "15000/15000 [==============================] - 3s 201us/step - loss: 0.6865 - acc: 0.6762 - val_loss: 0.6868 - val_acc: 0.6670\n",
            "Epoch 18/40\n",
            "15000/15000 [==============================] - 3s 201us/step - loss: 0.6861 - acc: 0.6749 - val_loss: 0.6865 - val_acc: 0.6649\n",
            "Epoch 19/40\n",
            "15000/15000 [==============================] - 3s 202us/step - loss: 0.6857 - acc: 0.6672 - val_loss: 0.6861 - val_acc: 0.6648\n",
            "Epoch 20/40\n",
            "15000/15000 [==============================] - 3s 200us/step - loss: 0.6853 - acc: 0.6694 - val_loss: 0.6858 - val_acc: 0.6648\n",
            "Epoch 21/40\n",
            "15000/15000 [==============================] - 3s 204us/step - loss: 0.6849 - acc: 0.6722 - val_loss: 0.6854 - val_acc: 0.6678\n",
            "Epoch 22/40\n",
            "15000/15000 [==============================] - 3s 201us/step - loss: 0.6846 - acc: 0.6755 - val_loss: 0.6850 - val_acc: 0.6694\n",
            "Epoch 23/40\n",
            "15000/15000 [==============================] - 3s 201us/step - loss: 0.6842 - acc: 0.6780 - val_loss: 0.6847 - val_acc: 0.6688\n",
            "Epoch 24/40\n",
            "15000/15000 [==============================] - 3s 201us/step - loss: 0.6838 - acc: 0.6767 - val_loss: 0.6843 - val_acc: 0.6693\n",
            "Epoch 25/40\n",
            "15000/15000 [==============================] - 3s 203us/step - loss: 0.6834 - acc: 0.6780 - val_loss: 0.6840 - val_acc: 0.6694\n",
            "Epoch 26/40\n",
            "15000/15000 [==============================] - 3s 203us/step - loss: 0.6831 - acc: 0.6805 - val_loss: 0.6836 - val_acc: 0.6695\n",
            "Epoch 27/40\n",
            "15000/15000 [==============================] - 3s 202us/step - loss: 0.6827 - acc: 0.6783 - val_loss: 0.6833 - val_acc: 0.6700\n",
            "Epoch 28/40\n",
            "15000/15000 [==============================] - 3s 203us/step - loss: 0.6823 - acc: 0.6762 - val_loss: 0.6829 - val_acc: 0.6702\n",
            "Epoch 29/40\n",
            "15000/15000 [==============================] - 3s 202us/step - loss: 0.6820 - acc: 0.6777 - val_loss: 0.6826 - val_acc: 0.6694\n",
            "Epoch 30/40\n",
            "15000/15000 [==============================] - 3s 204us/step - loss: 0.6816 - acc: 0.6754 - val_loss: 0.6823 - val_acc: 0.6693\n",
            "Epoch 31/40\n",
            "15000/15000 [==============================] - 3s 202us/step - loss: 0.6812 - acc: 0.6789 - val_loss: 0.6819 - val_acc: 0.6720\n",
            "Epoch 32/40\n",
            "15000/15000 [==============================] - 3s 200us/step - loss: 0.6808 - acc: 0.6809 - val_loss: 0.6815 - val_acc: 0.6695\n",
            "Epoch 33/40\n",
            "15000/15000 [==============================] - 3s 201us/step - loss: 0.6805 - acc: 0.6787 - val_loss: 0.6812 - val_acc: 0.6722\n",
            "Epoch 34/40\n",
            "15000/15000 [==============================] - 3s 202us/step - loss: 0.6801 - acc: 0.6811 - val_loss: 0.6808 - val_acc: 0.6717\n",
            "Epoch 35/40\n",
            "15000/15000 [==============================] - 3s 201us/step - loss: 0.6797 - acc: 0.6817 - val_loss: 0.6805 - val_acc: 0.6712\n",
            "Epoch 36/40\n",
            "15000/15000 [==============================] - 3s 200us/step - loss: 0.6794 - acc: 0.6806 - val_loss: 0.6802 - val_acc: 0.6704\n",
            "Epoch 37/40\n",
            "15000/15000 [==============================] - 3s 201us/step - loss: 0.6790 - acc: 0.6801 - val_loss: 0.6799 - val_acc: 0.6741\n",
            "Epoch 38/40\n",
            "15000/15000 [==============================] - 3s 199us/step - loss: 0.6787 - acc: 0.6815 - val_loss: 0.6795 - val_acc: 0.6723\n",
            "Epoch 39/40\n",
            "15000/15000 [==============================] - 3s 202us/step - loss: 0.6783 - acc: 0.6807 - val_loss: 0.6792 - val_acc: 0.6747\n",
            "Epoch 40/40\n",
            "15000/15000 [==============================] - 3s 201us/step - loss: 0.6780 - acc: 0.6819 - val_loss: 0.6788 - val_acc: 0.6714\n"
          ]
        }
      ],
      "source": [
        "history = model.fit(partial_X_train,\n",
        "                    partial_y_train,\n",
        "                    epochs=40,\n",
        "                    batch_size=512,\n",
        "                    validation_data=(X_val, y_val),\n",
        "                    verbose=1)"
      ]
    },
    {
      "cell_type": "markdown",
      "metadata": {
        "colab_type": "text",
        "id": "i_9a_rybhG5J"
      },
      "source": [
        "### Evaluating the model"
      ]
    },
    {
      "cell_type": "code",
      "execution_count": 25,
      "metadata": {
        "colab": {
          "base_uri": "https://localhost:8080/",
          "height": 34
        },
        "colab_type": "code",
        "id": "CFMt2Q7b3taP",
        "outputId": "d63205ed-2148-4350-91d6-4e7d08e04c43"
      },
      "outputs": [
        {
          "name": "stdout",
          "output_type": "stream",
          "text": [
            "25000/25000 [==============================] - 4s 158us/step\n"
          ]
        }
      ],
      "source": [
        "results = model.evaluate(X_test_enc, y_test)"
      ]
    },
    {
      "cell_type": "code",
      "execution_count": 26,
      "metadata": {
        "colab": {
          "base_uri": "https://localhost:8080/",
          "height": 34
        },
        "colab_type": "code",
        "id": "9RrKiPHcAmQU",
        "outputId": "4348e3e8-7128-46e7-97f4-42733e356346"
      },
      "outputs": [
        {
          "name": "stdout",
          "output_type": "stream",
          "text": [
            "[0.6786146028709411, 0.67744]\n"
          ]
        }
      ],
      "source": [
        "print(results)\n",
        "# loss, accuracay "
      ]
    },
    {
      "cell_type": "markdown",
      "metadata": {
        "colab_type": "text",
        "id": "OwZk_yoWhPJB"
      },
      "source": [
        "### Plotting the accuracy graph"
      ]
    },
    {
      "cell_type": "code",
      "execution_count": 27,
      "metadata": {
        "colab": {
          "base_uri": "https://localhost:8080/",
          "height": 295
        },
        "colab_type": "code",
        "id": "LS9k2vvSAqB7",
        "outputId": "bc4d1bab-ec6e-47a2-828d-34f0e4c2d9d7"
      },
      "outputs": [
        {
          "data": {
            "image/png": "[encoded data removed]",
            "text/plain": [
              "<Figure size 432x288 with 1 Axes>"
            ]
          },
          "metadata": {
            "tags": []
          },
          "output_type": "display_data"
        }
      ],
      "source": [
        "import matplotlib.pyplot as plt\n",
        "\n",
        "history_dict = history.history\n",
        "\n",
        "acc = history_dict['acc']\n",
        "val_acc = history_dict['val_acc']\n",
        "loss = history_dict['loss']\n",
        "val_loss = history_dict['val_loss']\n",
        "\n",
        "epochs = range(1, len(acc) + 1)\n",
        "\n",
        "plt.plot(epochs, acc, 'bo', label='Training acc')\n",
        "plt.plot(epochs, val_acc, 'b', label='Validation acc')\n",
        "plt.title('Training and validation accuracy')\n",
        "plt.xlabel('Epochs')\n",
        "plt.ylabel('Accuracy')\n",
        "plt.legend()\n",
        "\n",
        "plt.show()"
      ]
    },
    {
      "cell_type": "markdown",
      "metadata": {
        "colab_type": "text",
        "id": "a7OwOQw4h8RX"
      },
      "source": [
        "### Neural Network model using word embeddings"
      ]
    },
    {
      "cell_type": "code",
      "execution_count": 29,
      "metadata": {
        "colab": {
          "base_uri": "https://localhost:8080/",
          "height": 1000
        },
        "colab_type": "code",
        "id": "MFrCsL-NBFVL",
        "outputId": "4622e598-560b-43fa-c2e8-dfe090d2acf1"
      },
      "outputs": [
        {
          "name": "stdout",
          "output_type": "stream",
          "text": [
            "Model: \"sequential_3\"\n",
            "_________________________________________________________________\n",
            "Layer (type)                 Output Shape              Param #   \n",
            "=================================================================\n",
            "embedding_2 (Embedding)      (None, None, 256)         2560000   \n",
            "_________________________________________________________________\n",
            "global_average_pooling1d_mas (None, 256)               0         \n",
            "_________________________________________________________________\n",
            "dense_3 (Dense)              (None, 1)                 257       \n",
            "=================================================================\n",
            "Total params: 2,560,257\n",
            "Trainable params: 2,560,257\n",
            "Non-trainable params: 0\n",
            "_________________________________________________________________\n",
            "Train on 15000 samples, validate on 10000 samples\n",
            "Epoch 1/40\n",
            "15000/15000 [==============================] - 1s 55us/step - loss: 0.6879 - acc: 0.5955 - val_loss: 0.6806 - val_acc: 0.6665\n",
            "Epoch 2/40\n",
            "15000/15000 [==============================] - 0s 28us/step - loss: 0.6693 - acc: 0.7255 - val_loss: 0.6582 - val_acc: 0.7335\n",
            "Epoch 3/40\n",
            "15000/15000 [==============================] - 0s 29us/step - loss: 0.6384 - acc: 0.7487 - val_loss: 0.6238 - val_acc: 0.7433\n",
            "Epoch 4/40\n",
            "15000/15000 [==============================] - 0s 29us/step - loss: 0.5967 - acc: 0.7715 - val_loss: 0.5830 - val_acc: 0.7707\n",
            "Epoch 5/40\n",
            "15000/15000 [==============================] - 0s 31us/step - loss: 0.5506 - acc: 0.7969 - val_loss: 0.5404 - val_acc: 0.7931\n",
            "Epoch 6/40\n",
            "15000/15000 [==============================] - 0s 31us/step - loss: 0.5052 - acc: 0.8204 - val_loss: 0.5022 - val_acc: 0.8150\n",
            "Epoch 7/40\n",
            "15000/15000 [==============================] - 0s 31us/step - loss: 0.4633 - acc: 0.8403 - val_loss: 0.4654 - val_acc: 0.8293\n",
            "Epoch 8/40\n",
            "15000/15000 [==============================] - 0s 30us/step - loss: 0.4268 - acc: 0.8544 - val_loss: 0.4351 - val_acc: 0.8403\n",
            "Epoch 9/40\n",
            "15000/15000 [==============================] - 0s 30us/step - loss: 0.3952 - acc: 0.8668 - val_loss: 0.4108 - val_acc: 0.8492\n",
            "Epoch 10/40\n",
            "15000/15000 [==============================] - 0s 32us/step - loss: 0.3690 - acc: 0.8757 - val_loss: 0.3908 - val_acc: 0.8535\n",
            "Epoch 11/40\n",
            "15000/15000 [==============================] - 0s 30us/step - loss: 0.3464 - acc: 0.8825 - val_loss: 0.3742 - val_acc: 0.8602\n",
            "Epoch 12/40\n",
            "15000/15000 [==============================] - 0s 30us/step - loss: 0.3268 - acc: 0.8889 - val_loss: 0.3607 - val_acc: 0.8641\n",
            "Epoch 13/40\n",
            "15000/15000 [==============================] - 0s 31us/step - loss: 0.3096 - acc: 0.8947 - val_loss: 0.3498 - val_acc: 0.8638\n",
            "Epoch 14/40\n",
            "15000/15000 [==============================] - 0s 30us/step - loss: 0.2944 - acc: 0.9000 - val_loss: 0.3391 - val_acc: 0.8697\n",
            "Epoch 15/40\n",
            "15000/15000 [==============================] - 0s 31us/step - loss: 0.2804 - acc: 0.9041 - val_loss: 0.3312 - val_acc: 0.8730\n",
            "Epoch 16/40\n",
            "15000/15000 [==============================] - 0s 31us/step - loss: 0.2683 - acc: 0.9094 - val_loss: 0.3241 - val_acc: 0.8729\n",
            "Epoch 17/40\n",
            "15000/15000 [==============================] - 0s 31us/step - loss: 0.2561 - acc: 0.9135 - val_loss: 0.3180 - val_acc: 0.8759\n",
            "Epoch 18/40\n",
            "15000/15000 [==============================] - 0s 31us/step - loss: 0.2459 - acc: 0.9179 - val_loss: 0.3121 - val_acc: 0.8785\n",
            "Epoch 19/40\n",
            "15000/15000 [==============================] - 0s 29us/step - loss: 0.2359 - acc: 0.9228 - val_loss: 0.3070 - val_acc: 0.8783\n",
            "Epoch 20/40\n",
            "15000/15000 [==============================] - 0s 30us/step - loss: 0.2268 - acc: 0.9255 - val_loss: 0.3031 - val_acc: 0.8802\n",
            "Epoch 21/40\n",
            "15000/15000 [==============================] - 0s 29us/step - loss: 0.2182 - acc: 0.9286 - val_loss: 0.2995 - val_acc: 0.8809\n",
            "Epoch 22/40\n",
            "15000/15000 [==============================] - 0s 29us/step - loss: 0.2106 - acc: 0.9315 - val_loss: 0.2968 - val_acc: 0.8826\n",
            "Epoch 23/40\n",
            "15000/15000 [==============================] - 0s 28us/step - loss: 0.2031 - acc: 0.9353 - val_loss: 0.2945 - val_acc: 0.8826\n",
            "Epoch 24/40\n",
            "15000/15000 [==============================] - 0s 30us/step - loss: 0.1959 - acc: 0.9378 - val_loss: 0.2926 - val_acc: 0.8829\n",
            "Epoch 25/40\n",
            "15000/15000 [==============================] - 0s 29us/step - loss: 0.1897 - acc: 0.9408 - val_loss: 0.2909 - val_acc: 0.8832\n",
            "Epoch 26/40\n",
            "15000/15000 [==============================] - 0s 30us/step - loss: 0.1830 - acc: 0.9444 - val_loss: 0.2896 - val_acc: 0.8839\n",
            "Epoch 27/40\n",
            "15000/15000 [==============================] - 0s 30us/step - loss: 0.1773 - acc: 0.9459 - val_loss: 0.2889 - val_acc: 0.8833\n",
            "Epoch 28/40\n",
            "15000/15000 [==============================] - 0s 29us/step - loss: 0.1716 - acc: 0.9476 - val_loss: 0.2883 - val_acc: 0.8847\n",
            "Epoch 29/40\n",
            "15000/15000 [==============================] - 0s 28us/step - loss: 0.1657 - acc: 0.9517 - val_loss: 0.2871 - val_acc: 0.8850\n",
            "Epoch 30/40\n",
            "15000/15000 [==============================] - 0s 30us/step - loss: 0.1609 - acc: 0.9528 - val_loss: 0.2872 - val_acc: 0.8851\n",
            "Epoch 31/40\n",
            "15000/15000 [==============================] - 0s 29us/step - loss: 0.1562 - acc: 0.9558 - val_loss: 0.2871 - val_acc: 0.8844\n",
            "Epoch 32/40\n",
            "15000/15000 [==============================] - 0s 30us/step - loss: 0.1509 - acc: 0.9578 - val_loss: 0.2878 - val_acc: 0.8849\n",
            "Epoch 33/40\n",
            "15000/15000 [==============================] - 0s 30us/step - loss: 0.1466 - acc: 0.9593 - val_loss: 0.2879 - val_acc: 0.8853\n",
            "Epoch 34/40\n",
            "15000/15000 [==============================] - 0s 29us/step - loss: 0.1419 - acc: 0.9613 - val_loss: 0.2884 - val_acc: 0.8854\n",
            "Epoch 35/40\n",
            "15000/15000 [==============================] - 0s 30us/step - loss: 0.1379 - acc: 0.9616 - val_loss: 0.2899 - val_acc: 0.8854\n",
            "Epoch 36/40\n",
            "15000/15000 [==============================] - 0s 29us/step - loss: 0.1340 - acc: 0.9632 - val_loss: 0.2902 - val_acc: 0.8848\n",
            "Epoch 37/40\n",
            "15000/15000 [==============================] - 0s 29us/step - loss: 0.1301 - acc: 0.9654 - val_loss: 0.2904 - val_acc: 0.8853\n",
            "Epoch 38/40\n",
            "15000/15000 [==============================] - 0s 28us/step - loss: 0.1262 - acc: 0.9666 - val_loss: 0.2913 - val_acc: 0.8840\n",
            "Epoch 39/40\n",
            "15000/15000 [==============================] - 0s 29us/step - loss: 0.1227 - acc: 0.9677 - val_loss: 0.2928 - val_acc: 0.8849\n",
            "Epoch 40/40\n",
            "15000/15000 [==============================] - 0s 28us/step - loss: 0.1201 - acc: 0.9686 - val_loss: 0.2941 - val_acc: 0.8837\n",
            "25000/25000 [==============================] - 1s 48us/step\n",
            "[0.311287746515274, 0.87284]\n"
          ]
        }
      ],
      "source": [
        "VOCAB_SIZE= 10000\n",
        "\n",
        "# put the code here\n",
        "model2 = Sequential()\n",
        "model2.add(Embedding(VOCAB_SIZE, MAX_SEQUENCE_LENGTH))\n",
        "model2.add(GlobalAveragePooling1DMasked())\n",
        "model2.add(Dense(1, activation='sigmoid'))\n",
        "\n",
        "model2.compile(optimizer='adam',\n",
        "              loss='binary_crossentropy',\n",
        "              metrics=['accuracy'])\n",
        "model2.summary()\n",
        "\n",
        "\n",
        "#=========\n",
        "X_val = np.array(X_train_enc[:10000])\n",
        "partial_X_train = np.array(X_train_enc[10000:])\n",
        "\n",
        "history2 = model2.fit(partial_X_train,\n",
        "                    partial_y_train,\n",
        "                    epochs=40,\n",
        "                    batch_size=512,\n",
        "                    validation_data=(X_val, y_val),\n",
        "                    verbose=1)\n",
        "\n",
        "results = model2.evaluate(X_test_enc, y_test)\n",
        "print(results)"
      ]
    },
    {
      "cell_type": "code",
      "execution_count": 30,
      "metadata": {
        "colab": {
          "base_uri": "https://localhost:8080/",
          "height": 34
        },
        "colab_type": "code",
        "id": "I4zIPJDcTPq3",
        "outputId": "eda80f5e-ef0e-4389-ae72-86e99d1aa902"
      },
      "outputs": [
        {
          "name": "stdout",
          "output_type": "stream",
          "text": [
            "25000/25000 [==============================] - 1s 50us/step\n"
          ]
        }
      ],
      "source": [
        "results = model2.evaluate(X_test_enc, y_test)"
      ]
    },
    {
      "cell_type": "code",
      "execution_count": 31,
      "metadata": {
        "colab": {
          "base_uri": "https://localhost:8080/",
          "height": 34
        },
        "colab_type": "code",
        "id": "waS96edDTRyL",
        "outputId": "d3852a69-c860-4aee-8f79-0af9cfc5ac4b"
      },
      "outputs": [
        {
          "name": "stdout",
          "output_type": "stream",
          "text": [
            "[0.311287746515274, 0.87284]\n"
          ]
        }
      ],
      "source": [
        "print (results)"
      ]
    },
    {
      "cell_type": "code",
      "execution_count": 33,
      "metadata": {
        "colab": {
          "base_uri": "https://localhost:8080/",
          "height": 295
        },
        "colab_type": "code",
        "id": "XB7aveVzTC5a",
        "outputId": "29c792c1-84ab-49e9-8a58-bebdc1f147dc"
      },
      "outputs": [
        {
          "data": {
            "image/png": "[encoded data removed]",
            "text/plain": [
              "<Figure size 432x288 with 1 Axes>"
            ]
          },
          "metadata": {
            "tags": []
          },
          "output_type": "display_data"
        }
      ],
      "source": [
        "import matplotlib.pyplot as plt\n",
        "\n",
        "history_dict = history2.history\n",
        "\n",
        "acc = history_dict['acc']\n",
        "val_acc = history_dict['val_acc']\n",
        "loss = history_dict['loss']\n",
        "val_loss = history_dict['val_loss']\n",
        "\n",
        "epochs = range(1, len(acc) + 1)\n",
        "\n",
        "plt.plot(epochs, acc, 'bo', label='Training acc')\n",
        "plt.plot(epochs, val_acc, 'b', label='Validation acc')\n",
        "plt.title('Training and validation accuracy')\n",
        "plt.xlabel('Epochs')\n",
        "plt.ylabel('Accuracy')\n",
        "plt.legend()\n",
        "\n",
        "plt.show()"
      ]
    },
    {
      "cell_type": "markdown",
      "metadata": {
        "colab_type": "text",
        "id": "--020hfG6rN2"
      },
      "source": [
        "### Using pre-trained word embeddings"
      ]
    },
    {
      "cell_type": "code",
      "execution_count": null,
      "metadata": {
        "colab": {},
        "colab_type": "code",
        "id": "f_PypdqG9Iis"
      },
      "outputs": [],
      "source": [
        "def readGloveFile(gloveFile):\n",
        "    with open(gloveFile, 'r') as f:\n",
        "        wordToGlove = {}  \n",
        "        wordToIndex = {}  \n",
        "        indexToWord = {}  \n",
        "\n",
        "        for line in f:\n",
        "            record = line.strip().split()\n",
        "            token = record[0] \n",
        "            wordToGlove[token] = np.array(record[1:], dtype=np.float64) \n",
        "            \n",
        "        tokens = sorted(wordToGlove.keys())\n",
        "        for idx, tok in enumerate(tokens):\n",
        "            kerasIdx = idx + 1  \n",
        "            wordToIndex[tok] = kerasIdx \n",
        "            indexToWord[kerasIdx] = tok \n",
        "\n",
        "    return wordToIndex, indexToWord, wordToGlove"
      ]
    },
    {
      "cell_type": "code",
      "execution_count": null,
      "metadata": {
        "colab": {},
        "colab_type": "code",
        "id": "gembn7VM3ex8"
      },
      "outputs": [],
      "source": [
        "from keras.initializers import Constant\n",
        "def createPretrainedEmbeddingLayer(wordToGlove, wordToIndex, isTrainable):\n",
        "    vocabLen = len(wordToIndex) + 1  \n",
        "    embDim = next(iter(wordToGlove.values())).shape[0]  \n",
        "   \n",
        "    embeddingMatrix = np.zeros((vocabLen, embDim))  \n",
        "    for word, index in wordToIndex.items():\n",
        "      try:\n",
        "        embeddingMatrix[index, :] = wordToGlove[word] \n",
        "      except:\n",
        "        print(embeddingMatrix[index, :].shape)\n",
        "        print(wordToGlove[word].shape)\n",
        "        \n",
        "\n",
        "    embeddingLayer = Embedding(vocabLen, embDim, embeddings_initializer=Constant(embeddingMatrix), trainable=isTrainable)\n",
        "    return embeddingLayer"
      ]
    },
    {
      "cell_type": "code",
      "execution_count": 50,
      "metadata": {
        "colab": {
          "base_uri": "https://localhost:8080/",
          "height": 1000
        },
        "colab_type": "code",
        "id": "PZCPUM0W_Drc",
        "outputId": "8c606af5-1669-45ac-a2de-08cd4d156aae"
      },
      "outputs": [
        {
          "name": "stdout",
          "output_type": "stream",
          "text": [
            "Model: \"sequential_10\"\n",
            "_________________________________________________________________\n",
            "Layer (type)                 Output Shape              Param #   \n",
            "=================================================================\n",
            "embedding_5 (Embedding)      (None, None, 50)          20000050  \n",
            "_________________________________________________________________\n",
            "global_average_pooling1d_mas (None, 50)                0         \n",
            "_________________________________________________________________\n",
            "dense_6 (Dense)              (None, 1)                 51        \n",
            "=================================================================\n",
            "Total params: 20,000,101\n",
            "Trainable params: 51\n",
            "Non-trainable params: 20,000,050\n",
            "_________________________________________________________________\n",
            "Train on 15000 samples, validate on 10000 samples\n",
            "Epoch 1/40\n",
            "15000/15000 [==============================] - 2s 105us/step - loss: 0.6934 - acc: 0.5007 - val_loss: 0.6928 - val_acc: 0.5136\n",
            "Epoch 2/40\n",
            "15000/15000 [==============================] - 0s 13us/step - loss: 0.6925 - acc: 0.5115 - val_loss: 0.6920 - val_acc: 0.5267\n",
            "Epoch 3/40\n",
            "15000/15000 [==============================] - 0s 12us/step - loss: 0.6916 - acc: 0.5255 - val_loss: 0.6912 - val_acc: 0.5329\n",
            "Epoch 4/40\n",
            "15000/15000 [==============================] - 0s 14us/step - loss: 0.6907 - acc: 0.5331 - val_loss: 0.6906 - val_acc: 0.5420\n",
            "Epoch 5/40\n",
            "15000/15000 [==============================] - 0s 14us/step - loss: 0.6899 - acc: 0.5494 - val_loss: 0.6898 - val_acc: 0.5504\n",
            "Epoch 6/40\n",
            "15000/15000 [==============================] - 0s 13us/step - loss: 0.6891 - acc: 0.5514 - val_loss: 0.6891 - val_acc: 0.5535\n",
            "Epoch 7/40\n",
            "15000/15000 [==============================] - 0s 12us/step - loss: 0.6884 - acc: 0.5653 - val_loss: 0.6884 - val_acc: 0.5551\n",
            "Epoch 8/40\n",
            "15000/15000 [==============================] - 0s 14us/step - loss: 0.6877 - acc: 0.5619 - val_loss: 0.6880 - val_acc: 0.5559\n",
            "Epoch 9/40\n",
            "15000/15000 [==============================] - 0s 13us/step - loss: 0.6871 - acc: 0.5683 - val_loss: 0.6872 - val_acc: 0.5598\n",
            "Epoch 10/40\n",
            "15000/15000 [==============================] - 0s 13us/step - loss: 0.6864 - acc: 0.5667 - val_loss: 0.6869 - val_acc: 0.5588\n",
            "Epoch 11/40\n",
            "15000/15000 [==============================] - 0s 13us/step - loss: 0.6858 - acc: 0.5711 - val_loss: 0.6863 - val_acc: 0.5639\n",
            "Epoch 12/40\n",
            "15000/15000 [==============================] - 0s 12us/step - loss: 0.6853 - acc: 0.5726 - val_loss: 0.6859 - val_acc: 0.5617\n",
            "Epoch 13/40\n",
            "15000/15000 [==============================] - 0s 12us/step - loss: 0.6848 - acc: 0.5704 - val_loss: 0.6854 - val_acc: 0.5650\n",
            "Epoch 14/40\n",
            "15000/15000 [==============================] - 0s 12us/step - loss: 0.6842 - acc: 0.5719 - val_loss: 0.6849 - val_acc: 0.5667\n",
            "Epoch 15/40\n",
            "15000/15000 [==============================] - 0s 12us/step - loss: 0.6837 - acc: 0.5741 - val_loss: 0.6847 - val_acc: 0.5662\n",
            "Epoch 16/40\n",
            "15000/15000 [==============================] - 0s 12us/step - loss: 0.6833 - acc: 0.5733 - val_loss: 0.6841 - val_acc: 0.5690\n",
            "Epoch 17/40\n",
            "15000/15000 [==============================] - 0s 13us/step - loss: 0.6828 - acc: 0.5753 - val_loss: 0.6839 - val_acc: 0.5671\n",
            "Epoch 18/40\n",
            "15000/15000 [==============================] - 0s 12us/step - loss: 0.6824 - acc: 0.5762 - val_loss: 0.6834 - val_acc: 0.5701\n",
            "Epoch 19/40\n",
            "15000/15000 [==============================] - 0s 13us/step - loss: 0.6820 - acc: 0.5759 - val_loss: 0.6830 - val_acc: 0.5707\n",
            "Epoch 20/40\n",
            "15000/15000 [==============================] - 0s 12us/step - loss: 0.6816 - acc: 0.5758 - val_loss: 0.6827 - val_acc: 0.5696\n",
            "Epoch 21/40\n",
            "15000/15000 [==============================] - 0s 12us/step - loss: 0.6811 - acc: 0.5754 - val_loss: 0.6825 - val_acc: 0.5712\n",
            "Epoch 22/40\n",
            "15000/15000 [==============================] - 0s 12us/step - loss: 0.6808 - acc: 0.5777 - val_loss: 0.6820 - val_acc: 0.5724\n",
            "Epoch 23/40\n",
            "15000/15000 [==============================] - 0s 12us/step - loss: 0.6804 - acc: 0.5777 - val_loss: 0.6818 - val_acc: 0.5727\n",
            "Epoch 24/40\n",
            "15000/15000 [==============================] - 0s 13us/step - loss: 0.6801 - acc: 0.5766 - val_loss: 0.6815 - val_acc: 0.5743\n",
            "Epoch 25/40\n",
            "15000/15000 [==============================] - 0s 12us/step - loss: 0.6797 - acc: 0.5792 - val_loss: 0.6812 - val_acc: 0.5744\n",
            "Epoch 26/40\n",
            "15000/15000 [==============================] - 0s 12us/step - loss: 0.6794 - acc: 0.5785 - val_loss: 0.6808 - val_acc: 0.5750\n",
            "Epoch 27/40\n",
            "15000/15000 [==============================] - 0s 12us/step - loss: 0.6790 - acc: 0.5798 - val_loss: 0.6806 - val_acc: 0.5758\n",
            "Epoch 28/40\n",
            "15000/15000 [==============================] - 0s 12us/step - loss: 0.6786 - acc: 0.5791 - val_loss: 0.6803 - val_acc: 0.5769\n",
            "Epoch 29/40\n",
            "15000/15000 [==============================] - 0s 13us/step - loss: 0.6783 - acc: 0.5803 - val_loss: 0.6801 - val_acc: 0.5774\n",
            "Epoch 30/40\n",
            "15000/15000 [==============================] - 0s 12us/step - loss: 0.6780 - acc: 0.5816 - val_loss: 0.6797 - val_acc: 0.5772\n",
            "Epoch 31/40\n",
            "15000/15000 [==============================] - 0s 12us/step - loss: 0.6777 - acc: 0.5808 - val_loss: 0.6795 - val_acc: 0.5792\n",
            "Epoch 32/40\n",
            "15000/15000 [==============================] - 0s 13us/step - loss: 0.6774 - acc: 0.5833 - val_loss: 0.6793 - val_acc: 0.5787\n",
            "Epoch 33/40\n",
            "15000/15000 [==============================] - 0s 12us/step - loss: 0.6771 - acc: 0.5827 - val_loss: 0.6791 - val_acc: 0.5800\n",
            "Epoch 34/40\n",
            "15000/15000 [==============================] - 0s 12us/step - loss: 0.6769 - acc: 0.5831 - val_loss: 0.6787 - val_acc: 0.5800\n",
            "Epoch 35/40\n",
            "15000/15000 [==============================] - 0s 13us/step - loss: 0.6766 - acc: 0.5837 - val_loss: 0.6785 - val_acc: 0.5801\n",
            "Epoch 36/40\n",
            "15000/15000 [==============================] - 0s 13us/step - loss: 0.6762 - acc: 0.5843 - val_loss: 0.6785 - val_acc: 0.5802\n",
            "Epoch 37/40\n",
            "15000/15000 [==============================] - 0s 12us/step - loss: 0.6760 - acc: 0.5852 - val_loss: 0.6780 - val_acc: 0.5803\n",
            "Epoch 38/40\n",
            "15000/15000 [==============================] - 0s 12us/step - loss: 0.6758 - acc: 0.5867 - val_loss: 0.6780 - val_acc: 0.5811\n",
            "Epoch 39/40\n",
            "15000/15000 [==============================] - 0s 13us/step - loss: 0.6756 - acc: 0.5853 - val_loss: 0.6776 - val_acc: 0.5824\n",
            "Epoch 40/40\n",
            "15000/15000 [==============================] - 0s 12us/step - loss: 0.6752 - acc: 0.5874 - val_loss: 0.6774 - val_acc: 0.5836\n",
            "25000/25000 [==============================] - 1s 52us/step\n",
            "[0.6766917955207825, 0.5846]\n"
          ]
        }
      ],
      "source": [
        "# put the code here\n",
        "wordToIndex, indexToWord, wordToGlove = readGloveFile('./glove.6B.50d.txt')\n",
        "\n",
        "model3 = Sequential()\n",
        "model3.add(createPretrainedEmbeddingLayer(wordToGlove, wordToIndex, False))\n",
        "model3.add(GlobalAveragePooling1DMasked())\n",
        "model3.add(Dense(1, activation='sigmoid'))\n",
        "\n",
        "model3.compile(optimizer='adam',\n",
        "              loss='binary_crossentropy',\n",
        "              metrics=['accuracy'])\n",
        "model3.summary()\n",
        "#===\n",
        "X_val = np.array(X_train_enc[:10000])\n",
        "partial_X_train = np.array(X_train_enc[10000:])\n",
        "\n",
        "history3 = model3.fit(partial_X_train,\n",
        "                    partial_y_train,\n",
        "                    epochs=40,\n",
        "                    batch_size=512,\n",
        "                    validation_data=(X_val, y_val),\n",
        "                    verbose=1)\n",
        "\n",
        "results = model3.evaluate(X_test_enc, y_test)\n",
        "print(results)"
      ]
    },
    {
      "cell_type": "code",
      "execution_count": 52,
      "metadata": {
        "colab": {
          "base_uri": "https://localhost:8080/",
          "height": 295
        },
        "colab_type": "code",
        "id": "JI6qi1CqPMg_",
        "outputId": "2e3fe693-46d7-4abe-fc9b-50b21e274254"
      },
      "outputs": [
        {
          "data": {
            "image/png": "[encoded data removed]",
            "text/plain": [
              "<Figure size 432x288 with 1 Axes>"
            ]
          },
          "metadata": {
            "tags": []
          },
          "output_type": "display_data"
        }
      ],
      "source": [
        "import matplotlib.pyplot as plt\n",
        "\n",
        "history_dict = history3.history\n",
        "\n",
        "acc = history_dict['acc']\n",
        "val_acc = history_dict['val_acc']\n",
        "loss = history_dict['loss']\n",
        "val_loss = history_dict['val_loss']\n",
        "\n",
        "epochs = range(1, len(acc) + 1)\n",
        "\n",
        "plt.plot(epochs, acc, 'bo', label='Training acc')\n",
        "plt.plot(epochs, val_acc, 'b', label='Validation acc')\n",
        "plt.title('Training and validation accuracy')\n",
        "plt.xlabel('Epochs')\n",
        "plt.ylabel('Accuracy')\n",
        "plt.legend()\n",
        "\n",
        "plt.show()"
      ]
    },
    {
      "cell_type": "markdown",
      "metadata": {
        "colab_type": "text",
        "id": "M-bZ5SCHiIMl"
      },
      "source": [
        "### Adding another hidden layer to the network"
      ]
    },
    {
      "cell_type": "code",
      "execution_count": 60,
      "metadata": {
        "colab": {
          "base_uri": "https://localhost:8080/",
          "height": 1000
        },
        "colab_type": "code",
        "id": "Vw0le1YjDdCa",
        "outputId": "c002e5e1-c036-4255-ffcf-a652a696f6bf"
      },
      "outputs": [
        {
          "name": "stdout",
          "output_type": "stream",
          "text": [
            "Model: \"sequential_15\"\n",
            "_________________________________________________________________\n",
            "Layer (type)                 Output Shape              Param #   \n",
            "=================================================================\n",
            "embedding_10 (Embedding)     (None, None, 50)          20000050  \n",
            "_________________________________________________________________\n",
            "global_average_pooling1d_mas (None, 50)                0         \n",
            "_________________________________________________________________\n",
            "dense_15 (Dense)             (None, 50)                2550      \n",
            "_________________________________________________________________\n",
            "dense_16 (Dense)             (None, 1)                 51        \n",
            "=================================================================\n",
            "Total params: 20,002,651\n",
            "Trainable params: 2,601\n",
            "Non-trainable params: 20,000,050\n",
            "_________________________________________________________________\n",
            "Train on 15000 samples, validate on 10000 samples\n",
            "Epoch 1/40\n",
            "15000/15000 [==============================] - 2s 105us/step - loss: 0.6921 - acc: 0.5216 - val_loss: 0.6901 - val_acc: 0.5426\n",
            "Epoch 2/40\n",
            "15000/15000 [==============================] - 0s 15us/step - loss: 0.6879 - acc: 0.5571 - val_loss: 0.6878 - val_acc: 0.5519\n",
            "Epoch 3/40\n",
            "15000/15000 [==============================] - 0s 15us/step - loss: 0.6856 - acc: 0.5575 - val_loss: 0.6854 - val_acc: 0.5605\n",
            "Epoch 4/40\n",
            "15000/15000 [==============================] - 0s 13us/step - loss: 0.6827 - acc: 0.5681 - val_loss: 0.6849 - val_acc: 0.5507\n",
            "Epoch 5/40\n",
            "15000/15000 [==============================] - 0s 14us/step - loss: 0.6805 - acc: 0.5707 - val_loss: 0.6811 - val_acc: 0.5720\n",
            "Epoch 6/40\n",
            "15000/15000 [==============================] - 0s 13us/step - loss: 0.6779 - acc: 0.5780 - val_loss: 0.6788 - val_acc: 0.5778\n",
            "Epoch 7/40\n",
            "15000/15000 [==============================] - 0s 14us/step - loss: 0.6757 - acc: 0.5833 - val_loss: 0.6797 - val_acc: 0.5704\n",
            "Epoch 8/40\n",
            "15000/15000 [==============================] - 0s 15us/step - loss: 0.6731 - acc: 0.5859 - val_loss: 0.6751 - val_acc: 0.5868\n",
            "Epoch 9/40\n",
            "15000/15000 [==============================] - 0s 14us/step - loss: 0.6712 - acc: 0.5909 - val_loss: 0.6732 - val_acc: 0.5858\n",
            "Epoch 10/40\n",
            "15000/15000 [==============================] - 0s 14us/step - loss: 0.6694 - acc: 0.5932 - val_loss: 0.6717 - val_acc: 0.5932\n",
            "Epoch 11/40\n",
            "15000/15000 [==============================] - 0s 13us/step - loss: 0.6670 - acc: 0.5991 - val_loss: 0.6707 - val_acc: 0.5908\n",
            "Epoch 12/40\n",
            "15000/15000 [==============================] - 0s 13us/step - loss: 0.6653 - acc: 0.6008 - val_loss: 0.6685 - val_acc: 0.5944\n",
            "Epoch 13/40\n",
            "15000/15000 [==============================] - 0s 16us/step - loss: 0.6634 - acc: 0.6020 - val_loss: 0.6672 - val_acc: 0.5967\n",
            "Epoch 14/40\n",
            "15000/15000 [==============================] - 0s 14us/step - loss: 0.6619 - acc: 0.6034 - val_loss: 0.6683 - val_acc: 0.5926\n",
            "Epoch 15/40\n",
            "15000/15000 [==============================] - 0s 13us/step - loss: 0.6609 - acc: 0.6057 - val_loss: 0.6659 - val_acc: 0.5961\n",
            "Epoch 16/40\n",
            "15000/15000 [==============================] - 0s 15us/step - loss: 0.6598 - acc: 0.6072 - val_loss: 0.6647 - val_acc: 0.5996\n",
            "Epoch 17/40\n",
            "15000/15000 [==============================] - 0s 14us/step - loss: 0.6581 - acc: 0.6108 - val_loss: 0.6637 - val_acc: 0.5987\n",
            "Epoch 18/40\n",
            "15000/15000 [==============================] - 0s 14us/step - loss: 0.6574 - acc: 0.6133 - val_loss: 0.6629 - val_acc: 0.5993\n",
            "Epoch 19/40\n",
            "15000/15000 [==============================] - 0s 14us/step - loss: 0.6563 - acc: 0.6133 - val_loss: 0.6624 - val_acc: 0.5987\n",
            "Epoch 20/40\n",
            "15000/15000 [==============================] - 0s 13us/step - loss: 0.6554 - acc: 0.6145 - val_loss: 0.6620 - val_acc: 0.6007\n",
            "Epoch 21/40\n",
            "15000/15000 [==============================] - 0s 14us/step - loss: 0.6544 - acc: 0.6171 - val_loss: 0.6624 - val_acc: 0.5996\n",
            "Epoch 22/40\n",
            "15000/15000 [==============================] - 0s 14us/step - loss: 0.6544 - acc: 0.6162 - val_loss: 0.6609 - val_acc: 0.6011\n",
            "Epoch 23/40\n",
            "15000/15000 [==============================] - 0s 13us/step - loss: 0.6533 - acc: 0.6183 - val_loss: 0.6610 - val_acc: 0.6006\n",
            "Epoch 24/40\n",
            "15000/15000 [==============================] - 0s 15us/step - loss: 0.6528 - acc: 0.6197 - val_loss: 0.6618 - val_acc: 0.6014\n",
            "Epoch 25/40\n",
            "15000/15000 [==============================] - 0s 14us/step - loss: 0.6535 - acc: 0.6155 - val_loss: 0.6597 - val_acc: 0.6043\n",
            "Epoch 26/40\n",
            "15000/15000 [==============================] - 0s 13us/step - loss: 0.6516 - acc: 0.6193 - val_loss: 0.6608 - val_acc: 0.6012\n",
            "Epoch 27/40\n",
            "15000/15000 [==============================] - 0s 16us/step - loss: 0.6515 - acc: 0.6207 - val_loss: 0.6589 - val_acc: 0.6018\n",
            "Epoch 28/40\n",
            "15000/15000 [==============================] - 0s 14us/step - loss: 0.6503 - acc: 0.6215 - val_loss: 0.6587 - val_acc: 0.6062\n",
            "Epoch 29/40\n",
            "15000/15000 [==============================] - 0s 12us/step - loss: 0.6509 - acc: 0.6234 - val_loss: 0.6592 - val_acc: 0.6059\n",
            "Epoch 30/40\n",
            "15000/15000 [==============================] - 0s 12us/step - loss: 0.6499 - acc: 0.6227 - val_loss: 0.6582 - val_acc: 0.6027\n",
            "Epoch 31/40\n",
            "15000/15000 [==============================] - 0s 12us/step - loss: 0.6492 - acc: 0.6247 - val_loss: 0.6582 - val_acc: 0.6035\n",
            "Epoch 32/40\n",
            "15000/15000 [==============================] - 0s 14us/step - loss: 0.6487 - acc: 0.6259 - val_loss: 0.6576 - val_acc: 0.6048\n",
            "Epoch 33/40\n",
            "15000/15000 [==============================] - 0s 13us/step - loss: 0.6482 - acc: 0.6267 - val_loss: 0.6576 - val_acc: 0.6044\n",
            "Epoch 34/40\n",
            "15000/15000 [==============================] - 0s 13us/step - loss: 0.6479 - acc: 0.6267 - val_loss: 0.6575 - val_acc: 0.6050\n",
            "Epoch 35/40\n",
            "15000/15000 [==============================] - 0s 13us/step - loss: 0.6474 - acc: 0.6256 - val_loss: 0.6567 - val_acc: 0.6095\n",
            "Epoch 36/40\n",
            "15000/15000 [==============================] - 0s 14us/step - loss: 0.6476 - acc: 0.6271 - val_loss: 0.6564 - val_acc: 0.6087\n",
            "Epoch 37/40\n",
            "15000/15000 [==============================] - 0s 14us/step - loss: 0.6467 - acc: 0.6275 - val_loss: 0.6569 - val_acc: 0.6090\n",
            "Epoch 38/40\n",
            "15000/15000 [==============================] - 0s 13us/step - loss: 0.6473 - acc: 0.6269 - val_loss: 0.6559 - val_acc: 0.6103\n",
            "Epoch 39/40\n",
            "15000/15000 [==============================] - 0s 14us/step - loss: 0.6467 - acc: 0.6284 - val_loss: 0.6598 - val_acc: 0.6002\n",
            "Epoch 40/40\n",
            "15000/15000 [==============================] - 0s 12us/step - loss: 0.6463 - acc: 0.6289 - val_loss: 0.6555 - val_acc: 0.6106\n",
            "25000/25000 [==============================] - 1s 53us/step\n",
            "[0.648844937915802, 0.62212]\n"
          ]
        }
      ],
      "source": [
        "# put your code here\n",
        "wordToIndex, indexToWord, wordToGlove = readGloveFile('./glove.6B.50d.txt')\n",
        "\n",
        "model4 = Sequential()\n",
        "model4.add(createPretrainedEmbeddingLayer(wordToGlove, wordToIndex, False))\n",
        "model4.add(GlobalAveragePooling1DMasked())\n",
        "model4.add(Dense(50, activation='relu'))\n",
        "model4.add(Dense(1, activation='sigmoid'))\n",
        "\n",
        "model4.compile(optimizer='adam',\n",
        "              loss='binary_crossentropy',\n",
        "              metrics=['accuracy'])\n",
        "model4.summary()\n",
        "#===\n",
        "X_val = np.array(X_train_enc[:10000])\n",
        "partial_X_train = np.array(X_train_enc[10000:])\n",
        "\n",
        "history4 = model4.fit(partial_X_train,\n",
        "                    partial_y_train,\n",
        "                    epochs=40,\n",
        "                    batch_size=512,\n",
        "                    validation_data=(X_val, y_val),\n",
        "                    verbose=1)\n",
        "\n",
        "results = model4.evaluate(X_test_enc, y_test)\n",
        "print(results)"
      ]
    },
    {
      "cell_type": "code",
      "execution_count": 61,
      "metadata": {
        "colab": {
          "base_uri": "https://localhost:8080/",
          "height": 295
        },
        "colab_type": "code",
        "id": "QtsdVeW7UgCu",
        "outputId": "96b114dd-ca46-4062-d56c-09671bfe968b"
      },
      "outputs": [
        {
          "data": {
            "image/png": "[encoded data removed]",
            "text/plain": [
              "<Figure size 432x288 with 1 Axes>"
            ]
          },
          "metadata": {
            "tags": []
          },
          "output_type": "display_data"
        }
      ],
      "source": [
        "import matplotlib.pyplot as plt\n",
        "\n",
        "history_dict = history4.history\n",
        "\n",
        "acc = history_dict['acc']\n",
        "val_acc = history_dict['val_acc']\n",
        "loss = history_dict['loss']\n",
        "val_loss = history_dict['val_loss']\n",
        "\n",
        "epochs = range(1, len(acc) + 1)\n",
        "\n",
        "plt.plot(epochs, acc, 'bo', label='Training acc')\n",
        "plt.plot(epochs, val_acc, 'b', label='Validation acc')\n",
        "plt.title('Training and validation accuracy')\n",
        "plt.xlabel('Epochs')\n",
        "plt.ylabel('Accuracy')\n",
        "plt.legend()\n",
        "\n",
        "plt.show()"
      ]
    },
    {
      "cell_type": "markdown",
      "metadata": {
        "colab_type": "text",
        "id": "gn2GSV4ioyO2"
      },
      "source": [
        "\n",
        "\n",
        "---\n",
        "\n"
      ]
    }
  ],
  "metadata": {
    "accelerator": "GPU",
    "colab": {
      "collapsed_sections": [],
      "name": "lab4_text_classification.ipynb",
      "provenance": [],
      "toc_visible": true
    },
    "kernelspec": {
      "display_name": "Python 3",
      "language": "python",
      "name": "python3"
    },
    "language_info": {
      "codemirror_mode": {
        "name": "ipython",
        "version": 3
      },
      "file_extension": ".py",
      "mimetype": "text/x-python",
      "name": "python",
      "nbconvert_exporter": "python",
      "pygments_lexer": "ipython3",
      "version": "3.7.3"
    }
  },
  "nbformat": 4,
  "nbformat_minor": 0
}
